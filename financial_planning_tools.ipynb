{
 "cells": [
  {
   "cell_type": "markdown",
   "metadata": {},
   "source": [
    "# Financial Planning with APIs and Simulations\n",
    "\n",
    "In this Challenge, you’ll create two financial analysis tools by using a single Jupyter notebook:\n",
    "\n",
    "Part 1: A financial planner for emergencies. The members will be able to use this tool to visualize their current savings. The members can then determine if they have enough reserves for an emergency fund.\n",
    "\n",
    "Part 2: A financial planner for retirement. This tool will forecast the performance of their retirement portfolio in 30 years. To do this, the tool will make an Alpaca API call via the Alpaca SDK to get historical price data for use in Monte Carlo simulations.\n",
    "\n",
    "You’ll use the information from the Monte Carlo simulation to answer questions about the portfolio in your Jupyter notebook.\n",
    "\n"
   ]
  },
  {
   "cell_type": "code",
   "execution_count": 1,
   "metadata": {},
   "outputs": [],
   "source": [
    "# Import the required libraries and dependencies\n",
    "import os\n",
    "import requests\n",
    "import json\n",
    "import pandas as pd\n",
    "from dotenv import load_dotenv\n",
    "import alpaca_trade_api as tradeapi\n",
    "from MCForecastTools import MCSimulation\n",
    "\n",
    "%matplotlib inline"
   ]
  },
  {
   "cell_type": "code",
   "execution_count": 2,
   "metadata": {},
   "outputs": [
    {
     "data": {
      "text/plain": [
       "True"
      ]
     },
     "execution_count": 2,
     "metadata": {},
     "output_type": "execute_result"
    }
   ],
   "source": [
    "# Load the environment variables from the .env file\n",
    "#by calling the load_dotenv function\n",
    "load_dotenv()"
   ]
  },
  {
   "cell_type": "markdown",
   "metadata": {},
   "source": [
    "## Part 1: Create a Financial Planner for Emergencies"
   ]
  },
  {
   "cell_type": "markdown",
   "metadata": {},
   "source": [
    "### Evaluate the Cryptocurrency Wallet by Using the Requests Library\n",
    "\n",
    "In this section, you’ll determine the current value of a member’s cryptocurrency wallet. You’ll collect the current prices for the Bitcoin and Ethereum cryptocurrencies by using the Python Requests library. For the prototype, you’ll assume that the member holds the 1.2 Bitcoins (BTC) and 5.3 Ethereum coins (ETH). To do all this, complete the following steps:\n",
    "\n",
    "1. Create a variable named `monthly_income`, and set its value to `12000`.\n",
    "\n",
    "2. Use the Requests library to get the current price (in US dollars) of Bitcoin (BTC) and Ethereum (ETH) by using the API endpoints that the starter code supplies.\n",
    "\n",
    "3. Navigate the JSON response object to access the current price of each coin, and store each in a variable.\n",
    "\n",
    "    > **Hint** Note the specific identifier for each cryptocurrency in the API JSON response. The Bitcoin identifier is `1`, and the Ethereum identifier is `1027`.\n",
    "\n",
    "4. Calculate the value, in US dollars, of the current amount of each cryptocurrency and of the entire cryptocurrency wallet.\n",
    "\n"
   ]
  },
  {
   "cell_type": "code",
   "execution_count": 3,
   "metadata": {},
   "outputs": [],
   "source": [
    "# The current number of coins for each cryptocurrency asset held in the portfolio.\n",
    "btc_coins = 1.2\n",
    "eth_coins = 5.3"
   ]
  },
  {
   "cell_type": "markdown",
   "metadata": {},
   "source": [
    "#### Step 1: Create a variable named `monthly_income`, and set its value to `12000`."
   ]
  },
  {
   "cell_type": "code",
   "execution_count": 4,
   "metadata": {},
   "outputs": [],
   "source": [
    "# The monthly amount for the member's household income\n",
    "monthly_income = 12000\n"
   ]
  },
  {
   "cell_type": "markdown",
   "metadata": {},
   "source": [
    "#### Review the endpoint URLs for the API calls to Free Crypto API in order to get the current pricing information for both BTC and ETH."
   ]
  },
  {
   "cell_type": "code",
   "execution_count": 5,
   "metadata": {},
   "outputs": [],
   "source": [
    "# The Free Crypto API Call endpoint URLs for the held cryptocurrency assets\n",
    "btc_url = \"https://api.alternative.me/v2/ticker/Bitcoin/?convert=USD\"\n",
    "eth_url = \"https://api.alternative.me/v2/ticker/Ethereum/?convert=USD\""
   ]
  },
  {
   "cell_type": "markdown",
   "metadata": {},
   "source": [
    "#### Step 2. Use the Requests library to get the current price (in US dollars) of Bitcoin (BTC) and Ethereum (ETH) by using the API endpoints that the starter code supplied."
   ]
  },
  {
   "cell_type": "code",
   "execution_count": 7,
   "metadata": {},
   "outputs": [
    {
     "name": "stdout",
     "output_type": "stream",
     "text": [
      "{\n",
      "    \"data\": {\n",
      "        \"1\": {\n",
      "            \"circulating_supply\": 19109512,\n",
      "            \"id\": 1,\n",
      "            \"last_updated\": 1659377323,\n",
      "            \"max_supply\": 21000000,\n",
      "            \"name\": \"Bitcoin\",\n",
      "            \"quotes\": {\n",
      "                \"USD\": {\n",
      "                    \"market_cap\": 438943131887,\n",
      "                    \"percent_change_1h\": -1.05076263959782,\n",
      "                    \"percent_change_24h\": -4.50972157483015,\n",
      "                    \"percent_change_7d\": 1.57044842214174,\n",
      "                    \"percentage_change_1h\": -1.05076263959782,\n",
      "                    \"percentage_change_24h\": -4.50972157483015,\n",
      "                    \"percentage_change_7d\": 1.57044842214174,\n",
      "                    \"price\": 22969.0,\n",
      "                    \"volume_24h\": 46763838886\n",
      "                }\n",
      "            },\n",
      "            \"rank\": 1,\n",
      "            \"symbol\": \"BTC\",\n",
      "            \"total_supply\": 19109512,\n",
      "            \"website_slug\": \"bitcoin\"\n",
      "        }\n",
      "    },\n",
      "    \"metadata\": {\n",
      "        \"error\": null,\n",
      "        \"num_cryptocurrencies\": 3116,\n",
      "        \"timestamp\": 1659377323\n",
      "    }\n",
      "}\n"
     ]
    }
   ],
   "source": [
    "# Using the Python requests library, make an API call to access the current price of BTC\n",
    "btc_response = requests.get(btc_url).json()\n",
    "\n",
    "# Use the json.dumps function to review the response data from the API call\n",
    "# Use the indent and sort_keys parameters to make the response object readable\n",
    "print(json.dumps(btc_response, indent=4, sort_keys=True))\n"
   ]
  },
  {
   "cell_type": "code",
   "execution_count": 9,
   "metadata": {},
   "outputs": [
    {
     "name": "stdout",
     "output_type": "stream",
     "text": [
      "{\n",
      "    \"data\": {\n",
      "        \"1027\": {\n",
      "            \"circulating_supply\": 119919710,\n",
      "            \"id\": 1027,\n",
      "            \"last_updated\": 1659381867,\n",
      "            \"max_supply\": 119919312,\n",
      "            \"name\": \"Ethereum\",\n",
      "            \"quotes\": {\n",
      "                \"USD\": {\n",
      "                    \"market_cap\": 195379666816,\n",
      "                    \"percent_change_1h\": -0.150490112971805,\n",
      "                    \"percent_change_24h\": -5.48994824153846,\n",
      "                    \"percent_change_7d\": 1.59809177586202,\n",
      "                    \"percentage_change_1h\": -0.150490112971805,\n",
      "                    \"percentage_change_24h\": -5.48994824153846,\n",
      "                    \"percentage_change_7d\": 1.59809177586202,\n",
      "                    \"price\": 1626.8,\n",
      "                    \"volume_24h\": 15519833556\n",
      "                }\n",
      "            },\n",
      "            \"rank\": 2,\n",
      "            \"symbol\": \"ETH\",\n",
      "            \"total_supply\": 119919710,\n",
      "            \"website_slug\": \"ethereum\"\n",
      "        }\n",
      "    },\n",
      "    \"metadata\": {\n",
      "        \"error\": null,\n",
      "        \"num_cryptocurrencies\": 3116,\n",
      "        \"timestamp\": 1659381867\n",
      "    }\n",
      "}\n"
     ]
    }
   ],
   "source": [
    "# Using the Python requests library, make an API call to access the current price ETH\n",
    "eth_response = requests.get(eth_url).json()\n",
    "\n",
    "# Use the json.dumps function to review the response data from the API call\n",
    "# Use the indent and sort_keys parameters to make the response object readable\n",
    "print(json.dumps(eth_response, indent=4, sort_keys=True))\n"
   ]
  },
  {
   "cell_type": "markdown",
   "metadata": {},
   "source": [
    "#### Step 3: Navigate the JSON response object to access the current price of each coin, and store each in a variable."
   ]
  },
  {
   "cell_type": "code",
   "execution_count": 10,
   "metadata": {},
   "outputs": [
    {
     "name": "stdout",
     "output_type": "stream",
     "text": [
      "22969.0\n"
     ]
    }
   ],
   "source": [
    "# Navigate the BTC response object to access the current price of BTC\n",
    "btc_price = btc_response['data']['1']['quotes']['USD']['price']\n",
    "\n",
    "# Print the current price of BTC\n",
    "print(btc_price)\n"
   ]
  },
  {
   "cell_type": "code",
   "execution_count": 11,
   "metadata": {},
   "outputs": [
    {
     "name": "stdout",
     "output_type": "stream",
     "text": [
      "1626.8\n"
     ]
    }
   ],
   "source": [
    "# Navigate the BTC response object to access the current price of ETH\n",
    "eth_price = eth_response['data']['1027']['quotes']['USD']['price']\n",
    "\n",
    "# Print the current price of ETH\n",
    "print(eth_price)\n"
   ]
  },
  {
   "cell_type": "markdown",
   "metadata": {},
   "source": [
    "### Step 4: Calculate the value, in US dollars, of the current amount of each cryptocurrency and of the entire cryptocurrency wallet."
   ]
  },
  {
   "cell_type": "code",
   "execution_count": 12,
   "metadata": {},
   "outputs": [
    {
     "name": "stdout",
     "output_type": "stream",
     "text": [
      "27562.8\n"
     ]
    }
   ],
   "source": [
    "# Compute the current value of the BTC holding \n",
    "btc_value = btc_coins * btc_price\n",
    "\n",
    "# Print current value of your holding in BTC\n",
    "print(btc_value)\n"
   ]
  },
  {
   "cell_type": "code",
   "execution_count": 13,
   "metadata": {},
   "outputs": [
    {
     "name": "stdout",
     "output_type": "stream",
     "text": [
      "8622.039999999999\n"
     ]
    }
   ],
   "source": [
    "# Compute the current value of the ETH holding \n",
    "eth_value = eth_coins * eth_price\n",
    "\n",
    "# Print current value of your holding in ETH\n",
    "print(eth_value)\n"
   ]
  },
  {
   "cell_type": "code",
   "execution_count": 14,
   "metadata": {},
   "outputs": [
    {
     "data": {
      "text/plain": [
       "36184.84"
      ]
     },
     "execution_count": 14,
     "metadata": {},
     "output_type": "execute_result"
    }
   ],
   "source": [
    "# Compute the total value of the cryptocurrency wallet\n",
    "# Add the value of the BTC holding to the value of the ETH holding\n",
    "total_crypto_wallet = eth_value + btc_value\n",
    "\n",
    "# Print current cryptocurrency wallet balance\n",
    "total_crypto_wallet\n"
   ]
  },
  {
   "cell_type": "markdown",
   "metadata": {},
   "source": [
    "### Evaluate the Stock and Bond Holdings by Using the Alpaca SDK\n",
    "\n",
    "In this section, you’ll determine the current value of a member’s stock and bond holdings. You’ll make an API call to Alpaca via the Alpaca SDK to get the current closing prices of the SPDR S&P 500 ETF Trust (ticker: SPY) and of the iShares Core US Aggregate Bond ETF (ticker: AGG). For the prototype, assume that the member holds 110 shares of SPY, which represents the stock portion of their portfolio, and 200 shares of AGG, which represents the bond portion. To do all this, complete the following steps:\n",
    "\n",
    "1. In the `Starter_Code` folder, create an environment file (`.env`) to store the values of your Alpaca API key and Alpaca secret key.\n",
    "\n",
    "2. Set the variables for the Alpaca API and secret keys. Using the Alpaca SDK, create the Alpaca `tradeapi.REST` object. In this object, include the parameters for the Alpaca API key, the secret key, and the version number.\n",
    "\n",
    "3. Set the following parameters for the Alpaca API call:\n",
    "\n",
    "    - `tickers`: Use the tickers for the member’s stock and bond holdings.\n",
    "\n",
    "    - `timeframe`: Use a time frame of one day.\n",
    "\n",
    "    - `start_date` and `end_date`: Use the same date for these parameters, and format them with the date of the previous weekday (or `2020-08-07`). This is because you want the one closing price for the most-recent trading day.\n",
    "\n",
    "4. Get the current closing prices for `SPY` and `AGG` by using the Alpaca `get_bars` function. Format the response as a Pandas DataFrame by including the `df` property at the end of the `get_bars` function.\n",
    "\n",
    "5. Navigating the Alpaca response DataFrame, select the `SPY` and `AGG` closing prices, and store them as variables.\n",
    "\n",
    "6. Calculate the value, in US dollars, of the current amount of shares in each of the stock and bond portions of the portfolio, and print the results.\n"
   ]
  },
  {
   "cell_type": "markdown",
   "metadata": {},
   "source": [
    "#### Review the total number of shares held in both (SPY) and (AGG)."
   ]
  },
  {
   "cell_type": "code",
   "execution_count": 15,
   "metadata": {},
   "outputs": [],
   "source": [
    "# Current amount of shares held in both the stock (SPY) and bond (AGG) portion of the portfolio.\n",
    "spy_shares = 110\n",
    "agg_shares = 200\n"
   ]
  },
  {
   "cell_type": "markdown",
   "metadata": {},
   "source": [
    "#### Step 1: In the `Starter_Code` folder, create an environment file (`.env`) to store the values of your Alpaca API key and Alpaca secret key."
   ]
  },
  {
   "cell_type": "markdown",
   "metadata": {},
   "source": [
    "#### Step 2: Set the variables for the Alpaca API and secret keys. Using the Alpaca SDK, create the Alpaca `tradeapi.REST` object. In this object, include the parameters for the Alpaca API key, the secret key, and the version number."
   ]
  },
  {
   "cell_type": "code",
   "execution_count": 21,
   "metadata": {},
   "outputs": [],
   "source": [
    "# Set the variables for the Alpaca API and secret keys\n",
    "alpaca_api_key = os.getenv('ALPACA_API_KEY')\n",
    "alpaca_secret_key = os.getenv('ALPACA_SECRET_KEY')\n",
    "\n",
    "# Create the Alpaca tradeapi.REST object\n",
    "alpaca = tradeapi.REST(\n",
    "    alpaca_api_key,\n",
    "    alpaca_secret_key,\n",
    "    api_version = 'v2')"
   ]
  },
  {
   "cell_type": "markdown",
   "metadata": {},
   "source": [
    "#### Step 3: Set the following parameters for the Alpaca API call:\n",
    "\n",
    "- `tickers`: Use the tickers for the member’s stock and bond holdings.\n",
    "\n",
    "- `timeframe`: Use a time frame of one day.\n",
    "\n",
    "- `start_date` and `end_date`: Use the same date for these parameters, and format them with the date of the previous weekday (or `2020-08-07`). This is because you want the one closing price for the most-recent trading day.\n"
   ]
  },
  {
   "cell_type": "code",
   "execution_count": 106,
   "metadata": {},
   "outputs": [],
   "source": [
    "# Set the tickers for both the bond and stock portion of the portfolio\n",
    "tickers = ['SPY','AGG']\n",
    "\n",
    "# Set timeframe to 1Day\n",
    "timeframe='1Day'\n",
    "\n",
    "# Format current date as ISO format\n",
    "# Set both the start and end date at the date of your prior weekday \n",
    "# This will give you the closing price of the previous trading day\n",
    "# Alternatively you can use a start and end date of 2020-08-07\n",
    "start_date = pd.Timestamp('2022-07-29', tz=\"America/New_York\").isoformat()\n",
    "end_date = pd.Timestamp('2022-07-29', tz=\"America/New_York\").isoformat()\n",
    "\n"
   ]
  },
  {
   "cell_type": "markdown",
   "metadata": {},
   "source": [
    "#### Step 4: Get the current closing prices for `SPY` and `AGG` by using the Alpaca `get_bars` function. Format the response as a Pandas DataFrame by including the `df` property at the end of the `get_bars` function."
   ]
  },
  {
   "cell_type": "code",
   "execution_count": 108,
   "metadata": {},
   "outputs": [
    {
     "data": {
      "text/html": [
       "<div>\n",
       "<style scoped>\n",
       "    .dataframe tbody tr th:only-of-type {\n",
       "        vertical-align: middle;\n",
       "    }\n",
       "\n",
       "    .dataframe tbody tr th {\n",
       "        vertical-align: top;\n",
       "    }\n",
       "\n",
       "    .dataframe thead tr th {\n",
       "        text-align: left;\n",
       "    }\n",
       "</style>\n",
       "<table border=\"1\" class=\"dataframe\">\n",
       "  <thead>\n",
       "    <tr>\n",
       "      <th></th>\n",
       "      <th colspan=\"7\" halign=\"left\">SPY</th>\n",
       "      <th colspan=\"7\" halign=\"left\">AGG</th>\n",
       "    </tr>\n",
       "    <tr>\n",
       "      <th></th>\n",
       "      <th>open</th>\n",
       "      <th>high</th>\n",
       "      <th>low</th>\n",
       "      <th>close</th>\n",
       "      <th>volume</th>\n",
       "      <th>trade_count</th>\n",
       "      <th>vwap</th>\n",
       "      <th>open</th>\n",
       "      <th>high</th>\n",
       "      <th>low</th>\n",
       "      <th>close</th>\n",
       "      <th>volume</th>\n",
       "      <th>trade_count</th>\n",
       "      <th>vwap</th>\n",
       "    </tr>\n",
       "  </thead>\n",
       "  <tbody>\n",
       "    <tr>\n",
       "      <th>2022-07-29</th>\n",
       "      <td>407.7</td>\n",
       "      <td>413.02</td>\n",
       "      <td>406.77</td>\n",
       "      <td>411.99</td>\n",
       "      <td>86779944</td>\n",
       "      <td>544810</td>\n",
       "      <td>410.668581</td>\n",
       "      <td>103.94</td>\n",
       "      <td>104.395</td>\n",
       "      <td>103.83</td>\n",
       "      <td>104.07</td>\n",
       "      <td>6523118</td>\n",
       "      <td>22800</td>\n",
       "      <td>104.156714</td>\n",
       "    </tr>\n",
       "  </tbody>\n",
       "</table>\n",
       "</div>"
      ],
      "text/plain": [
       "              SPY                                                            \\\n",
       "             open    high     low   close    volume trade_count        vwap   \n",
       "2022-07-29  407.7  413.02  406.77  411.99  86779944      544810  410.668581   \n",
       "\n",
       "               AGG                                                            \n",
       "              open     high     low   close   volume trade_count        vwap  \n",
       "2022-07-29  103.94  104.395  103.83  104.07  6523118       22800  104.156714  "
      ]
     },
     "metadata": {},
     "output_type": "display_data"
    }
   ],
   "source": [
    "# Use the Alpaca get_bars function to get current closing prices the portfolio\n",
    "# Be sure to set the `df` property after the function to format the response object as a DataFrame\n",
    "\n",
    "prices_df = alpaca.get_bars(\n",
    "    tickers,\n",
    "    timeframe,\n",
    "    start = start_date,\n",
    "    end = end_date).df\n",
    "\n",
    "# Reorganize the DataFrame\n",
    "# Separate ticker data\n",
    "spy = prices_df[prices_df['symbol'] == 'SPY'].drop('symbol', axis=1)\n",
    "agg = prices_df[prices_df['symbol'] == 'AGG'].drop('symbol', axis=1)\n",
    "\n",
    "\n",
    "# Concatenate the ticker DataFrames\n",
    "prices_df = pd.concat([spy,agg], keys=['SPY', 'AGG'], axis=1)\n",
    "prices_df.index = prices_df.index.date\n",
    "\n",
    "# Review the first 5 rows of the Alpaca DataFrame\n",
    "display(prices_df.head())\n"
   ]
  },
  {
   "cell_type": "markdown",
   "metadata": {},
   "source": [
    "#### Step 5: Navigating the Alpaca response DataFrame, select the `SPY` and `AGG` closing prices, and store them as variables."
   ]
  },
  {
   "cell_type": "code",
   "execution_count": 115,
   "metadata": {},
   "outputs": [
    {
     "data": {
      "text/plain": [
       "104.07"
      ]
     },
     "metadata": {},
     "output_type": "display_data"
    },
    {
     "data": {
      "text/plain": [
       "float"
      ]
     },
     "execution_count": 115,
     "metadata": {},
     "output_type": "execute_result"
    }
   ],
   "source": [
    "# Access the closing price for AGG from the Alpaca DataFrame\n",
    "# Converting the value to a floating point number\n",
    "agg_close_price = float(prices_df['AGG']['close'])\n",
    "\n",
    "# Print the AGG closing price\n",
    "display(agg_close_price)"
   ]
  },
  {
   "cell_type": "code",
   "execution_count": 118,
   "metadata": {},
   "outputs": [
    {
     "name": "stdout",
     "output_type": "stream",
     "text": [
      "411.99\n"
     ]
    },
    {
     "data": {
      "text/plain": [
       "float"
      ]
     },
     "execution_count": 118,
     "metadata": {},
     "output_type": "execute_result"
    }
   ],
   "source": [
    "# Access the closing price for SPY from the Alpaca DataFrame\n",
    "# Converting the value to a floating point number\n",
    "spy_close_price = float(prices_df['SPY']['close'])\n",
    "\n",
    "# Print the SPY closing price\n",
    "print(spy_close_price)\n",
    "type(spy_close_price)"
   ]
  },
  {
   "cell_type": "markdown",
   "metadata": {},
   "source": [
    "#### Step 6: Calculate the value, in US dollars, of the current amount of shares in each of the stock and bond portions of the portfolio, and print the results."
   ]
  },
  {
   "cell_type": "code",
   "execution_count": 119,
   "metadata": {},
   "outputs": [
    {
     "data": {
      "text/plain": [
       "20814.0"
      ]
     },
     "execution_count": 119,
     "metadata": {},
     "output_type": "execute_result"
    }
   ],
   "source": [
    "# Calculate the current value of the bond portion of the portfolio\n",
    "agg_value = agg_close_price * agg_shares\n",
    "\n",
    "# Print the current value of the bond portfolio\n",
    "agg_value\n"
   ]
  },
  {
   "cell_type": "code",
   "execution_count": 120,
   "metadata": {},
   "outputs": [
    {
     "data": {
      "text/plain": [
       "45318.9"
      ]
     },
     "execution_count": 120,
     "metadata": {},
     "output_type": "execute_result"
    }
   ],
   "source": [
    "# Calculate the current value of the stock portion of the portfolio\n",
    "spy_value = spy_close_price * spy_shares\n",
    "\n",
    "# Print the current value of the stock portfolio\n",
    "spy_value\n"
   ]
  },
  {
   "cell_type": "code",
   "execution_count": 121,
   "metadata": {},
   "outputs": [
    {
     "data": {
      "text/plain": [
       "66132.9"
      ]
     },
     "execution_count": 121,
     "metadata": {},
     "output_type": "execute_result"
    }
   ],
   "source": [
    "# Calculate the total value of the stock and bond portion of the portfolio\n",
    "total_stocks_bonds = agg_value + spy_value\n",
    "\n",
    "# Print the current balance of the stock and bond portion of the portfolio\n",
    "total_stocks_bonds\n"
   ]
  },
  {
   "cell_type": "code",
   "execution_count": 122,
   "metadata": {},
   "outputs": [
    {
     "name": "stdout",
     "output_type": "stream",
     "text": [
      "102317.73999999999\n"
     ]
    }
   ],
   "source": [
    "# Calculate the total value of the member's entire savings portfolio\n",
    "# Add the value of the cryptocurrency walled to the value of the total stocks and bonds\n",
    "total_portfolio = total_crypto_wallet + total_stocks_bonds\n",
    "\n",
    "# Print current cryptocurrency wallet balance\n",
    "print(total_portfolio)"
   ]
  },
  {
   "cell_type": "markdown",
   "metadata": {},
   "source": [
    "### Evaluate the Emergency Fund\n",
    "\n",
    "In this section, you’ll use the valuations for the cryptocurrency wallet and for the stock and bond portions of the portfolio to determine if the credit union member has enough savings to build an emergency fund into their financial plan. To do this, complete the following steps:\n",
    "\n",
    "1. Create a Python list named `savings_data` that has two elements. The first element contains the total value of the cryptocurrency wallet. The second element contains the total value of the stock and bond portions of the portfolio.\n",
    "\n",
    "2. Use the `savings_data` list to create a Pandas DataFrame named `savings_df`, and then display this DataFrame. The function to create the DataFrame should take the following three parameters:\n",
    "\n",
    "    - `savings_data`: Use the list that you just created.\n",
    "\n",
    "    - `columns`: Set this parameter equal to a Python list with a single value called `amount`.\n",
    "\n",
    "    - `index`: Set this parameter equal to a Python list with the values of `crypto` and `stock/bond`.\n",
    "\n",
    "3. Use the `savings_df` DataFrame to plot a pie chart that visualizes the composition of the member’s portfolio. The y-axis of the pie chart uses `amount`. Be sure to add a title.\n",
    "\n",
    "4. Using Python, determine if the current portfolio has enough to create an emergency fund as part of the member’s financial plan. Ideally, an emergency fund should equal to three times the member’s monthly income. To do this, implement the following steps:\n",
    "\n",
    "    1. Create a variable named `emergency_fund_value`, and set it equal to three times the value of the member’s `monthly_income` of $12000. (You set this earlier in Part 1).\n",
    "\n",
    "    2. Create a series of three if statements to determine if the member’s total portfolio is large enough to fund the emergency portfolio:\n",
    "\n",
    "        1. If the total portfolio value is greater than the emergency fund value, display a message congratulating the member for having enough money in this fund.\n",
    "\n",
    "        2. Else if the total portfolio value is equal to the emergency fund value, display a message congratulating the member on reaching this important financial goal.\n",
    "\n",
    "        3. Else the total portfolio is less than the emergency fund value, so display a message showing how many dollars away the member is from reaching the goal. (Subtract the total portfolio value from the emergency fund value.)\n"
   ]
  },
  {
   "cell_type": "markdown",
   "metadata": {},
   "source": [
    "#### Step 1: Create a Python list named `savings_data` that has two elements. The first element contains the total value of the cryptocurrency wallet. The second element contains the total value of the stock and bond portions of the portfolio."
   ]
  },
  {
   "cell_type": "code",
   "execution_count": 32,
   "metadata": {},
   "outputs": [
    {
     "data": {
      "text/plain": [
       "[36184.84, 66132.9]"
      ]
     },
     "execution_count": 32,
     "metadata": {},
     "output_type": "execute_result"
    }
   ],
   "source": [
    "# Consolidate financial assets data into a Python list\n",
    "savings_data = [total_crypto_wallet, total_stocks_bonds]\n",
    "\n",
    "# Review the Python list savings_data\n",
    "savings_data\n",
    "    "
   ]
  },
  {
   "cell_type": "markdown",
   "metadata": {},
   "source": [
    "#### Step 2: Use the `savings_data` list to create a Pandas DataFrame named `savings_df`, and then display this DataFrame. The function to create the DataFrame should take the following three parameters:\n",
    "\n",
    "- `savings_data`: Use the list that you just created.\n",
    "\n",
    "- `columns`: Set this parameter equal to a Python list with a single value called `amount`.\n",
    "\n",
    "- `index`: Set this parameter equal to a Python list with the values of `crypto` and `stock/bond`.\n"
   ]
  },
  {
   "cell_type": "code",
   "execution_count": 33,
   "metadata": {},
   "outputs": [
    {
     "data": {
      "text/html": [
       "<div>\n",
       "<style scoped>\n",
       "    .dataframe tbody tr th:only-of-type {\n",
       "        vertical-align: middle;\n",
       "    }\n",
       "\n",
       "    .dataframe tbody tr th {\n",
       "        vertical-align: top;\n",
       "    }\n",
       "\n",
       "    .dataframe thead th {\n",
       "        text-align: right;\n",
       "    }\n",
       "</style>\n",
       "<table border=\"1\" class=\"dataframe\">\n",
       "  <thead>\n",
       "    <tr style=\"text-align: right;\">\n",
       "      <th></th>\n",
       "      <th>Amount</th>\n",
       "    </tr>\n",
       "  </thead>\n",
       "  <tbody>\n",
       "    <tr>\n",
       "      <th>crypto</th>\n",
       "      <td>36184.84</td>\n",
       "    </tr>\n",
       "    <tr>\n",
       "      <th>stock/bond</th>\n",
       "      <td>66132.90</td>\n",
       "    </tr>\n",
       "  </tbody>\n",
       "</table>\n",
       "</div>"
      ],
      "text/plain": [
       "              Amount\n",
       "crypto      36184.84\n",
       "stock/bond  66132.90"
      ]
     },
     "execution_count": 33,
     "metadata": {},
     "output_type": "execute_result"
    }
   ],
   "source": [
    "# Create a Pandas DataFrame called savings_df \n",
    "savings_df = pd.DataFrame(savings_data, columns = ['Amount'], index=['crypto', 'stock/bond'])\n",
    "\n",
    "# Display the savings_df DataFrame\n",
    "savings_df\n"
   ]
  },
  {
   "cell_type": "markdown",
   "metadata": {},
   "source": [
    "#### Step 3: Use the `savings_df` DataFrame to plot a pie chart that visualizes the composition of the member’s portfolio. The y-axis of the pie chart uses `amount`. Be sure to add a title."
   ]
  },
  {
   "cell_type": "code",
   "execution_count": 34,
   "metadata": {},
   "outputs": [
    {
     "data": {
      "text/plain": [
       "<AxesSubplot:title={'center':'Portfolio composition'}, ylabel='Amount'>"
      ]
     },
     "execution_count": 34,
     "metadata": {},
     "output_type": "execute_result"
    },
    {
     "data": {
      "image/png": "[encoded data removed]",
      "text/plain": [
       "<Figure size 432x288 with 1 Axes>"
      ]
     },
     "metadata": {},
     "output_type": "display_data"
    }
   ],
   "source": [
    "# Plot the total value of the member's portfolio (crypto and stock/bond) in a pie chart\n",
    "savings_df.plot.pie(y='Amount', title=\"Portfolio composition\")\n"
   ]
  },
  {
   "cell_type": "markdown",
   "metadata": {},
   "source": [
    "#### Step 4: Using Python, determine if the current portfolio has enough to create an emergency fund as part of the member’s financial plan. Ideally, an emergency fund should equal to three times the member’s monthly income. To do this, implement the following steps:\n",
    "\n",
    "Step 1. Create a variable named `emergency_fund_value`, and set it equal to three times the value of the member’s `monthly_income` of 12000. (You set this earlier in Part 1).\n",
    "\n",
    "Step 2. Create a series of three if statements to determine if the member’s total portfolio is large enough to fund the emergency portfolio:\n",
    "\n",
    "* If the total portfolio value is greater than the emergency fund value, display a message congratulating the member for having enough money in this fund.\n",
    "\n",
    "* Else if the total portfolio value is equal to the emergency fund value, display a message congratulating the member on reaching this important financial goal.\n",
    "\n",
    "* Else the total portfolio is less than the emergency fund value, so display a message showing how many dollars away the member is from reaching the goal. (Subtract the total portfolio value from the emergency fund value.)\n"
   ]
  },
  {
   "cell_type": "markdown",
   "metadata": {},
   "source": [
    "##### Step 4-1: Create a variable named `emergency_fund_value`, and set it equal to three times the value of the member’s `monthly_income` of 12000. (You set this earlier in Part 1)."
   ]
  },
  {
   "cell_type": "code",
   "execution_count": 47,
   "metadata": {},
   "outputs": [
    {
     "data": {
      "text/plain": [
       "int"
      ]
     },
     "execution_count": 47,
     "metadata": {},
     "output_type": "execute_result"
    }
   ],
   "source": [
    "# Create a variable named emergency_fund_value\n",
    "emergency_fund_value = monthly_income * 3\n",
    "type(emergency_fund_value)"
   ]
  },
  {
   "cell_type": "markdown",
   "metadata": {},
   "source": [
    "##### Step 4-2: Create a series of three if statements to determine if the member’s total portfolio is large enough to fund the emergency portfolio:\n",
    "\n",
    "* If the total portfolio value is greater than the emergency fund value, display a message congratulating the member for having enough money in this fund.\n",
    "\n",
    "* Else if the total portfolio value is equal to the emergency fund value, display a message congratulating the member on reaching this important financial goal.\n",
    "\n",
    "* Else the total portfolio is less than the emergency fund value, so display a message showing how many dollars away the member is from reaching the goal. (Subtract the total portfolio value from the emergency fund value.)"
   ]
  },
  {
   "cell_type": "code",
   "execution_count": 123,
   "metadata": {},
   "outputs": [
    {
     "name": "stdout",
     "output_type": "stream",
     "text": [
      "congratulations sir, you have sufficient funds\n"
     ]
    }
   ],
   "source": [
    "# # Evaluate the possibility of creating an emergency fund with 3 conditions:\n",
    "if emergency_fund_value < total_portfolio:\n",
    "    print('congratulations sir, you have sufficient funds')\n",
    "    \n",
    "elif emergency_fund_value == total_portfolio:\n",
    "    print('congratulations sir, on meeting this historic landmark')\n",
    "    \n",
    "else:\n",
    "    print(f'you are ${emergency_fund_value - total_portfolio} shy of reaching your emergency fund goal')\n"
   ]
  },
  {
   "cell_type": "markdown",
   "metadata": {},
   "source": [
    "## Part 2: Create a Financial Planner for Retirement"
   ]
  },
  {
   "cell_type": "markdown",
   "metadata": {},
   "source": [
    "### Create the Monte Carlo Simulation\n",
    "\n",
    "In this section, you’ll use the MCForecastTools library to create a Monte Carlo simulation for the member’s savings portfolio. To do this, complete the following steps:\n",
    "\n",
    "1. Make an API call via the Alpaca SDK to get 3 years of historical closing prices for a traditional 60/40 portfolio split: 60% stocks (SPY) and 40% bonds (AGG).\n",
    "\n",
    "2. Run a Monte Carlo simulation of 500 samples and 30 years for the 60/40 portfolio, and then plot the results.The following image shows the overlay line plot resulting from a simulation with these characteristics. However, because a random number generator is used to run each live Monte Carlo simulation, your image will differ slightly from this exact image:\n",
    "\n",
    "![A screenshot depicts the resulting plot.](Images/5-4-monte-carlo-line-plot.png)\n",
    "\n",
    "3. Plot the probability distribution of the Monte Carlo simulation. Plot the probability distribution of the Monte Carlo simulation. The following image shows the histogram plot resulting from a simulation with these characteristics. However, because a random number generator is used to run each live Monte Carlo simulation, your image will differ slightly from this exact image:\n",
    "\n",
    "![A screenshot depicts the histogram plot.](Images/5-4-monte-carlo-histogram.png)\n",
    "\n",
    "4. Generate the summary statistics for the Monte Carlo simulation.\n",
    "\n"
   ]
  },
  {
   "cell_type": "markdown",
   "metadata": {},
   "source": [
    "#### Step 1: Make an API call via the Alpaca SDK to get 3 years of historical closing prices for a traditional 60/40 portfolio split: 60% stocks (SPY) and 40% bonds (AGG)."
   ]
  },
  {
   "cell_type": "code",
   "execution_count": 124,
   "metadata": {},
   "outputs": [],
   "source": [
    "# Set start and end dates of 3 years back from your current date\n",
    "# Alternatively, you can use an end date of 2020-08-07 and work 3 years back from that date \n",
    "start_date = pd.Timestamp('2019-07-29', tz='America/New_York').isoformat()\n",
    "end_date = pd.Timestamp('2022-07-29', tz='America/New_York').isoformat()"
   ]
  },
  {
   "cell_type": "code",
   "execution_count": 125,
   "metadata": {},
   "outputs": [
    {
     "data": {
      "text/html": [
       "<div>\n",
       "<style scoped>\n",
       "    .dataframe tbody tr th:only-of-type {\n",
       "        vertical-align: middle;\n",
       "    }\n",
       "\n",
       "    .dataframe tbody tr th {\n",
       "        vertical-align: top;\n",
       "    }\n",
       "\n",
       "    .dataframe thead tr th {\n",
       "        text-align: left;\n",
       "    }\n",
       "\n",
       "    .dataframe thead tr:last-of-type th {\n",
       "        text-align: right;\n",
       "    }\n",
       "</style>\n",
       "<table border=\"1\" class=\"dataframe\">\n",
       "  <thead>\n",
       "    <tr>\n",
       "      <th></th>\n",
       "      <th colspan=\"7\" halign=\"left\">SPY</th>\n",
       "      <th colspan=\"7\" halign=\"left\">AGG</th>\n",
       "    </tr>\n",
       "    <tr>\n",
       "      <th></th>\n",
       "      <th>open</th>\n",
       "      <th>high</th>\n",
       "      <th>low</th>\n",
       "      <th>close</th>\n",
       "      <th>volume</th>\n",
       "      <th>trade_count</th>\n",
       "      <th>vwap</th>\n",
       "      <th>open</th>\n",
       "      <th>high</th>\n",
       "      <th>low</th>\n",
       "      <th>close</th>\n",
       "      <th>volume</th>\n",
       "      <th>trade_count</th>\n",
       "      <th>vwap</th>\n",
       "    </tr>\n",
       "    <tr>\n",
       "      <th>timestamp</th>\n",
       "      <th></th>\n",
       "      <th></th>\n",
       "      <th></th>\n",
       "      <th></th>\n",
       "      <th></th>\n",
       "      <th></th>\n",
       "      <th></th>\n",
       "      <th></th>\n",
       "      <th></th>\n",
       "      <th></th>\n",
       "      <th></th>\n",
       "      <th></th>\n",
       "      <th></th>\n",
       "      <th></th>\n",
       "    </tr>\n",
       "  </thead>\n",
       "  <tbody>\n",
       "    <tr>\n",
       "      <th>2019-07-29 04:00:00+00:00</th>\n",
       "      <td>301.85</td>\n",
       "      <td>302.01</td>\n",
       "      <td>300.85</td>\n",
       "      <td>301.46</td>\n",
       "      <td>38182966</td>\n",
       "      <td>185789</td>\n",
       "      <td>301.477510</td>\n",
       "      <td>111.30</td>\n",
       "      <td>111.35</td>\n",
       "      <td>111.22</td>\n",
       "      <td>111.26</td>\n",
       "      <td>4667109</td>\n",
       "      <td>9067</td>\n",
       "      <td>111.287204</td>\n",
       "    </tr>\n",
       "    <tr>\n",
       "      <th>2019-07-30 04:00:00+00:00</th>\n",
       "      <td>299.90</td>\n",
       "      <td>301.17</td>\n",
       "      <td>299.49</td>\n",
       "      <td>300.72</td>\n",
       "      <td>46360267</td>\n",
       "      <td>208893</td>\n",
       "      <td>300.597002</td>\n",
       "      <td>111.27</td>\n",
       "      <td>111.33</td>\n",
       "      <td>111.16</td>\n",
       "      <td>111.25</td>\n",
       "      <td>2409278</td>\n",
       "      <td>9125</td>\n",
       "      <td>111.240710</td>\n",
       "    </tr>\n",
       "    <tr>\n",
       "      <th>2019-07-31 04:00:00+00:00</th>\n",
       "      <td>300.98</td>\n",
       "      <td>301.20</td>\n",
       "      <td>295.20</td>\n",
       "      <td>297.43</td>\n",
       "      <td>104971212</td>\n",
       "      <td>537642</td>\n",
       "      <td>298.744183</td>\n",
       "      <td>111.30</td>\n",
       "      <td>111.59</td>\n",
       "      <td>111.07</td>\n",
       "      <td>111.30</td>\n",
       "      <td>12972717</td>\n",
       "      <td>17896</td>\n",
       "      <td>111.389988</td>\n",
       "    </tr>\n",
       "    <tr>\n",
       "      <th>2019-08-01 04:00:00+00:00</th>\n",
       "      <td>297.56</td>\n",
       "      <td>300.87</td>\n",
       "      <td>293.96</td>\n",
       "      <td>294.84</td>\n",
       "      <td>142653060</td>\n",
       "      <td>771413</td>\n",
       "      <td>296.650886</td>\n",
       "      <td>111.34</td>\n",
       "      <td>111.95</td>\n",
       "      <td>111.26</td>\n",
       "      <td>111.91</td>\n",
       "      <td>5709211</td>\n",
       "      <td>22712</td>\n",
       "      <td>111.700343</td>\n",
       "    </tr>\n",
       "    <tr>\n",
       "      <th>2019-08-02 04:00:00+00:00</th>\n",
       "      <td>293.86</td>\n",
       "      <td>294.12</td>\n",
       "      <td>290.90</td>\n",
       "      <td>292.62</td>\n",
       "      <td>118248370</td>\n",
       "      <td>552082</td>\n",
       "      <td>292.544668</td>\n",
       "      <td>111.93</td>\n",
       "      <td>112.04</td>\n",
       "      <td>111.82</td>\n",
       "      <td>111.95</td>\n",
       "      <td>3293739</td>\n",
       "      <td>16662</td>\n",
       "      <td>111.917417</td>\n",
       "    </tr>\n",
       "  </tbody>\n",
       "</table>\n",
       "</div>"
      ],
      "text/plain": [
       "                              SPY                                     \\\n",
       "                             open    high     low   close     volume   \n",
       "timestamp                                                              \n",
       "2019-07-29 04:00:00+00:00  301.85  302.01  300.85  301.46   38182966   \n",
       "2019-07-30 04:00:00+00:00  299.90  301.17  299.49  300.72   46360267   \n",
       "2019-07-31 04:00:00+00:00  300.98  301.20  295.20  297.43  104971212   \n",
       "2019-08-01 04:00:00+00:00  297.56  300.87  293.96  294.84  142653060   \n",
       "2019-08-02 04:00:00+00:00  293.86  294.12  290.90  292.62  118248370   \n",
       "\n",
       "                                                      AGG                  \\\n",
       "                          trade_count        vwap    open    high     low   \n",
       "timestamp                                                                   \n",
       "2019-07-29 04:00:00+00:00      185789  301.477510  111.30  111.35  111.22   \n",
       "2019-07-30 04:00:00+00:00      208893  300.597002  111.27  111.33  111.16   \n",
       "2019-07-31 04:00:00+00:00      537642  298.744183  111.30  111.59  111.07   \n",
       "2019-08-01 04:00:00+00:00      771413  296.650886  111.34  111.95  111.26   \n",
       "2019-08-02 04:00:00+00:00      552082  292.544668  111.93  112.04  111.82   \n",
       "\n",
       "                                                                     \n",
       "                            close    volume trade_count        vwap  \n",
       "timestamp                                                            \n",
       "2019-07-29 04:00:00+00:00  111.26   4667109        9067  111.287204  \n",
       "2019-07-30 04:00:00+00:00  111.25   2409278        9125  111.240710  \n",
       "2019-07-31 04:00:00+00:00  111.30  12972717       17896  111.389988  \n",
       "2019-08-01 04:00:00+00:00  111.91   5709211       22712  111.700343  \n",
       "2019-08-02 04:00:00+00:00  111.95   3293739       16662  111.917417  "
      ]
     },
     "metadata": {},
     "output_type": "display_data"
    },
    {
     "data": {
      "text/html": [
       "<div>\n",
       "<style scoped>\n",
       "    .dataframe tbody tr th:only-of-type {\n",
       "        vertical-align: middle;\n",
       "    }\n",
       "\n",
       "    .dataframe tbody tr th {\n",
       "        vertical-align: top;\n",
       "    }\n",
       "\n",
       "    .dataframe thead tr th {\n",
       "        text-align: left;\n",
       "    }\n",
       "\n",
       "    .dataframe thead tr:last-of-type th {\n",
       "        text-align: right;\n",
       "    }\n",
       "</style>\n",
       "<table border=\"1\" class=\"dataframe\">\n",
       "  <thead>\n",
       "    <tr>\n",
       "      <th></th>\n",
       "      <th colspan=\"7\" halign=\"left\">SPY</th>\n",
       "      <th colspan=\"7\" halign=\"left\">AGG</th>\n",
       "    </tr>\n",
       "    <tr>\n",
       "      <th></th>\n",
       "      <th>open</th>\n",
       "      <th>high</th>\n",
       "      <th>low</th>\n",
       "      <th>close</th>\n",
       "      <th>volume</th>\n",
       "      <th>trade_count</th>\n",
       "      <th>vwap</th>\n",
       "      <th>open</th>\n",
       "      <th>high</th>\n",
       "      <th>low</th>\n",
       "      <th>close</th>\n",
       "      <th>volume</th>\n",
       "      <th>trade_count</th>\n",
       "      <th>vwap</th>\n",
       "    </tr>\n",
       "    <tr>\n",
       "      <th>timestamp</th>\n",
       "      <th></th>\n",
       "      <th></th>\n",
       "      <th></th>\n",
       "      <th></th>\n",
       "      <th></th>\n",
       "      <th></th>\n",
       "      <th></th>\n",
       "      <th></th>\n",
       "      <th></th>\n",
       "      <th></th>\n",
       "      <th></th>\n",
       "      <th></th>\n",
       "      <th></th>\n",
       "      <th></th>\n",
       "    </tr>\n",
       "  </thead>\n",
       "  <tbody>\n",
       "    <tr>\n",
       "      <th>2022-07-25 04:00:00+00:00</th>\n",
       "      <td>395.72</td>\n",
       "      <td>396.47</td>\n",
       "      <td>393.21</td>\n",
       "      <td>395.57</td>\n",
       "      <td>53336510</td>\n",
       "      <td>437463</td>\n",
       "      <td>395.047557</td>\n",
       "      <td>102.90</td>\n",
       "      <td>103.090</td>\n",
       "      <td>102.870</td>\n",
       "      <td>102.98</td>\n",
       "      <td>3577227</td>\n",
       "      <td>15169</td>\n",
       "      <td>102.964903</td>\n",
       "    </tr>\n",
       "    <tr>\n",
       "      <th>2022-07-26 04:00:00+00:00</th>\n",
       "      <td>393.84</td>\n",
       "      <td>394.06</td>\n",
       "      <td>389.95</td>\n",
       "      <td>390.89</td>\n",
       "      <td>52767480</td>\n",
       "      <td>436591</td>\n",
       "      <td>391.857608</td>\n",
       "      <td>103.44</td>\n",
       "      <td>103.510</td>\n",
       "      <td>102.960</td>\n",
       "      <td>102.96</td>\n",
       "      <td>6203148</td>\n",
       "      <td>17921</td>\n",
       "      <td>103.179189</td>\n",
       "    </tr>\n",
       "    <tr>\n",
       "      <th>2022-07-27 04:00:00+00:00</th>\n",
       "      <td>394.43</td>\n",
       "      <td>402.88</td>\n",
       "      <td>394.05</td>\n",
       "      <td>401.04</td>\n",
       "      <td>81319074</td>\n",
       "      <td>587430</td>\n",
       "      <td>398.307462</td>\n",
       "      <td>103.19</td>\n",
       "      <td>103.640</td>\n",
       "      <td>103.180</td>\n",
       "      <td>103.32</td>\n",
       "      <td>5098243</td>\n",
       "      <td>18390</td>\n",
       "      <td>103.358408</td>\n",
       "    </tr>\n",
       "    <tr>\n",
       "      <th>2022-07-28 04:00:00+00:00</th>\n",
       "      <td>401.84</td>\n",
       "      <td>406.80</td>\n",
       "      <td>398.15</td>\n",
       "      <td>406.07</td>\n",
       "      <td>73966563</td>\n",
       "      <td>570079</td>\n",
       "      <td>403.644305</td>\n",
       "      <td>104.09</td>\n",
       "      <td>104.205</td>\n",
       "      <td>103.835</td>\n",
       "      <td>104.06</td>\n",
       "      <td>6473834</td>\n",
       "      <td>23665</td>\n",
       "      <td>104.024178</td>\n",
       "    </tr>\n",
       "    <tr>\n",
       "      <th>2022-07-29 04:00:00+00:00</th>\n",
       "      <td>407.70</td>\n",
       "      <td>413.02</td>\n",
       "      <td>406.77</td>\n",
       "      <td>411.99</td>\n",
       "      <td>86779944</td>\n",
       "      <td>544810</td>\n",
       "      <td>410.668581</td>\n",
       "      <td>103.94</td>\n",
       "      <td>104.395</td>\n",
       "      <td>103.830</td>\n",
       "      <td>104.07</td>\n",
       "      <td>6523118</td>\n",
       "      <td>22800</td>\n",
       "      <td>104.156714</td>\n",
       "    </tr>\n",
       "  </tbody>\n",
       "</table>\n",
       "</div>"
      ],
      "text/plain": [
       "                              SPY                                    \\\n",
       "                             open    high     low   close    volume   \n",
       "timestamp                                                             \n",
       "2022-07-25 04:00:00+00:00  395.72  396.47  393.21  395.57  53336510   \n",
       "2022-07-26 04:00:00+00:00  393.84  394.06  389.95  390.89  52767480   \n",
       "2022-07-27 04:00:00+00:00  394.43  402.88  394.05  401.04  81319074   \n",
       "2022-07-28 04:00:00+00:00  401.84  406.80  398.15  406.07  73966563   \n",
       "2022-07-29 04:00:00+00:00  407.70  413.02  406.77  411.99  86779944   \n",
       "\n",
       "                                                      AGG                    \\\n",
       "                          trade_count        vwap    open     high      low   \n",
       "timestamp                                                                     \n",
       "2022-07-25 04:00:00+00:00      437463  395.047557  102.90  103.090  102.870   \n",
       "2022-07-26 04:00:00+00:00      436591  391.857608  103.44  103.510  102.960   \n",
       "2022-07-27 04:00:00+00:00      587430  398.307462  103.19  103.640  103.180   \n",
       "2022-07-28 04:00:00+00:00      570079  403.644305  104.09  104.205  103.835   \n",
       "2022-07-29 04:00:00+00:00      544810  410.668581  103.94  104.395  103.830   \n",
       "\n",
       "                                                                    \n",
       "                            close   volume trade_count        vwap  \n",
       "timestamp                                                           \n",
       "2022-07-25 04:00:00+00:00  102.98  3577227       15169  102.964903  \n",
       "2022-07-26 04:00:00+00:00  102.96  6203148       17921  103.179189  \n",
       "2022-07-27 04:00:00+00:00  103.32  5098243       18390  103.358408  \n",
       "2022-07-28 04:00:00+00:00  104.06  6473834       23665  104.024178  \n",
       "2022-07-29 04:00:00+00:00  104.07  6523118       22800  104.156714  "
      ]
     },
     "metadata": {},
     "output_type": "display_data"
    }
   ],
   "source": [
    "# Use the Alpaca get_bars function to make the API call to get the 3 years worth of pricing data\n",
    "# The tickers and timeframe parameters should have been set in Part 1 of this activity \n",
    "# The start and end dates should be updated with the information set above\n",
    "# Remember to add the df property to the end of the call so the response is returned as a DataFrame\n",
    "response_df = alpaca.get_bars(\n",
    "    tickers,\n",
    "    timeframe,\n",
    "    start = start_date,\n",
    "    end = end_date).df\n",
    "\n",
    "# Reorganize the DataFrame\n",
    "# Separate ticker data\n",
    "spy = response_df[response_df['symbol'] == 'SPY'].drop('symbol', axis=1)\n",
    "agg = response_df[response_df['symbol'] == 'AGG'].drop('symbol', axis=1)\n",
    "\n",
    "\n",
    "# Concatenate the ticker DataFrames\n",
    "response_df = pd.concat([spy,agg], keys = ['SPY', 'AGG'], axis=1)\n",
    "\n",
    "# Display both the first and last five rows of the DataFrame\n",
    "display(response_df.head())\n",
    "display(response_df.tail())\n"
   ]
  },
  {
   "cell_type": "markdown",
   "metadata": {},
   "source": [
    "#### Step 2: Run a Monte Carlo simulation of 500 samples and 30 years for the 60/40 portfolio, and then plot the results."
   ]
  },
  {
   "cell_type": "code",
   "execution_count": 136,
   "metadata": {},
   "outputs": [
    {
     "data": {
      "text/html": [
       "<div>\n",
       "<style scoped>\n",
       "    .dataframe tbody tr th:only-of-type {\n",
       "        vertical-align: middle;\n",
       "    }\n",
       "\n",
       "    .dataframe tbody tr th {\n",
       "        vertical-align: top;\n",
       "    }\n",
       "\n",
       "    .dataframe thead tr th {\n",
       "        text-align: left;\n",
       "    }\n",
       "\n",
       "    .dataframe thead tr:last-of-type th {\n",
       "        text-align: right;\n",
       "    }\n",
       "</style>\n",
       "<table border=\"1\" class=\"dataframe\">\n",
       "  <thead>\n",
       "    <tr>\n",
       "      <th></th>\n",
       "      <th colspan=\"8\" halign=\"left\">SPY</th>\n",
       "      <th colspan=\"8\" halign=\"left\">AGG</th>\n",
       "    </tr>\n",
       "    <tr>\n",
       "      <th></th>\n",
       "      <th>open</th>\n",
       "      <th>high</th>\n",
       "      <th>low</th>\n",
       "      <th>close</th>\n",
       "      <th>volume</th>\n",
       "      <th>trade_count</th>\n",
       "      <th>vwap</th>\n",
       "      <th>daily_return</th>\n",
       "      <th>open</th>\n",
       "      <th>high</th>\n",
       "      <th>low</th>\n",
       "      <th>close</th>\n",
       "      <th>volume</th>\n",
       "      <th>trade_count</th>\n",
       "      <th>vwap</th>\n",
       "      <th>daily_return</th>\n",
       "    </tr>\n",
       "    <tr>\n",
       "      <th>timestamp</th>\n",
       "      <th></th>\n",
       "      <th></th>\n",
       "      <th></th>\n",
       "      <th></th>\n",
       "      <th></th>\n",
       "      <th></th>\n",
       "      <th></th>\n",
       "      <th></th>\n",
       "      <th></th>\n",
       "      <th></th>\n",
       "      <th></th>\n",
       "      <th></th>\n",
       "      <th></th>\n",
       "      <th></th>\n",
       "      <th></th>\n",
       "      <th></th>\n",
       "    </tr>\n",
       "  </thead>\n",
       "  <tbody>\n",
       "    <tr>\n",
       "      <th>2019-07-29 04:00:00+00:00</th>\n",
       "      <td>301.85</td>\n",
       "      <td>302.01</td>\n",
       "      <td>300.85</td>\n",
       "      <td>301.46</td>\n",
       "      <td>38182966</td>\n",
       "      <td>185789</td>\n",
       "      <td>301.477510</td>\n",
       "      <td>NaN</td>\n",
       "      <td>111.30</td>\n",
       "      <td>111.35</td>\n",
       "      <td>111.22</td>\n",
       "      <td>111.26</td>\n",
       "      <td>4667109</td>\n",
       "      <td>9067</td>\n",
       "      <td>111.287204</td>\n",
       "      <td>NaN</td>\n",
       "    </tr>\n",
       "    <tr>\n",
       "      <th>2019-07-30 04:00:00+00:00</th>\n",
       "      <td>299.90</td>\n",
       "      <td>301.17</td>\n",
       "      <td>299.49</td>\n",
       "      <td>300.72</td>\n",
       "      <td>46360267</td>\n",
       "      <td>208893</td>\n",
       "      <td>300.597002</td>\n",
       "      <td>-0.002455</td>\n",
       "      <td>111.27</td>\n",
       "      <td>111.33</td>\n",
       "      <td>111.16</td>\n",
       "      <td>111.25</td>\n",
       "      <td>2409278</td>\n",
       "      <td>9125</td>\n",
       "      <td>111.240710</td>\n",
       "      <td>-0.000090</td>\n",
       "    </tr>\n",
       "    <tr>\n",
       "      <th>2019-07-31 04:00:00+00:00</th>\n",
       "      <td>300.98</td>\n",
       "      <td>301.20</td>\n",
       "      <td>295.20</td>\n",
       "      <td>297.43</td>\n",
       "      <td>104971212</td>\n",
       "      <td>537642</td>\n",
       "      <td>298.744183</td>\n",
       "      <td>-0.010940</td>\n",
       "      <td>111.30</td>\n",
       "      <td>111.59</td>\n",
       "      <td>111.07</td>\n",
       "      <td>111.30</td>\n",
       "      <td>12972717</td>\n",
       "      <td>17896</td>\n",
       "      <td>111.389988</td>\n",
       "      <td>0.000449</td>\n",
       "    </tr>\n",
       "    <tr>\n",
       "      <th>2019-08-01 04:00:00+00:00</th>\n",
       "      <td>297.56</td>\n",
       "      <td>300.87</td>\n",
       "      <td>293.96</td>\n",
       "      <td>294.84</td>\n",
       "      <td>142653060</td>\n",
       "      <td>771413</td>\n",
       "      <td>296.650886</td>\n",
       "      <td>-0.008708</td>\n",
       "      <td>111.34</td>\n",
       "      <td>111.95</td>\n",
       "      <td>111.26</td>\n",
       "      <td>111.91</td>\n",
       "      <td>5709211</td>\n",
       "      <td>22712</td>\n",
       "      <td>111.700343</td>\n",
       "      <td>0.005481</td>\n",
       "    </tr>\n",
       "    <tr>\n",
       "      <th>2019-08-02 04:00:00+00:00</th>\n",
       "      <td>293.86</td>\n",
       "      <td>294.12</td>\n",
       "      <td>290.90</td>\n",
       "      <td>292.62</td>\n",
       "      <td>118248370</td>\n",
       "      <td>552082</td>\n",
       "      <td>292.544668</td>\n",
       "      <td>-0.007530</td>\n",
       "      <td>111.93</td>\n",
       "      <td>112.04</td>\n",
       "      <td>111.82</td>\n",
       "      <td>111.95</td>\n",
       "      <td>3293739</td>\n",
       "      <td>16662</td>\n",
       "      <td>111.917417</td>\n",
       "      <td>0.000357</td>\n",
       "    </tr>\n",
       "  </tbody>\n",
       "</table>\n",
       "</div>"
      ],
      "text/plain": [
       "                              SPY                                     \\\n",
       "                             open    high     low   close     volume   \n",
       "timestamp                                                              \n",
       "2019-07-29 04:00:00+00:00  301.85  302.01  300.85  301.46   38182966   \n",
       "2019-07-30 04:00:00+00:00  299.90  301.17  299.49  300.72   46360267   \n",
       "2019-07-31 04:00:00+00:00  300.98  301.20  295.20  297.43  104971212   \n",
       "2019-08-01 04:00:00+00:00  297.56  300.87  293.96  294.84  142653060   \n",
       "2019-08-02 04:00:00+00:00  293.86  294.12  290.90  292.62  118248370   \n",
       "\n",
       "                                                                   AGG  \\\n",
       "                          trade_count        vwap daily_return    open   \n",
       "timestamp                                                                \n",
       "2019-07-29 04:00:00+00:00      185789  301.477510          NaN  111.30   \n",
       "2019-07-30 04:00:00+00:00      208893  300.597002    -0.002455  111.27   \n",
       "2019-07-31 04:00:00+00:00      537642  298.744183    -0.010940  111.30   \n",
       "2019-08-01 04:00:00+00:00      771413  296.650886    -0.008708  111.34   \n",
       "2019-08-02 04:00:00+00:00      552082  292.544668    -0.007530  111.93   \n",
       "\n",
       "                                                                         \\\n",
       "                             high     low   close    volume trade_count   \n",
       "timestamp                                                                 \n",
       "2019-07-29 04:00:00+00:00  111.35  111.22  111.26   4667109        9067   \n",
       "2019-07-30 04:00:00+00:00  111.33  111.16  111.25   2409278        9125   \n",
       "2019-07-31 04:00:00+00:00  111.59  111.07  111.30  12972717       17896   \n",
       "2019-08-01 04:00:00+00:00  111.95  111.26  111.91   5709211       22712   \n",
       "2019-08-02 04:00:00+00:00  112.04  111.82  111.95   3293739       16662   \n",
       "\n",
       "                                                    \n",
       "                                 vwap daily_return  \n",
       "timestamp                                           \n",
       "2019-07-29 04:00:00+00:00  111.287204          NaN  \n",
       "2019-07-30 04:00:00+00:00  111.240710    -0.000090  \n",
       "2019-07-31 04:00:00+00:00  111.389988     0.000449  \n",
       "2019-08-01 04:00:00+00:00  111.700343     0.005481  \n",
       "2019-08-02 04:00:00+00:00  111.917417     0.000357  "
      ]
     },
     "execution_count": 136,
     "metadata": {},
     "output_type": "execute_result"
    }
   ],
   "source": [
    "# Configure the Monte Carlo simulation to forecast 30 years cumulative returns\n",
    "# The weights should be split 40% to AGG and 60% to SPY.\n",
    "# Run 500 samples.\n",
    "portfolio_sim = MCSimulation(\n",
    "    portfolio_data = response_df,\n",
    "    weights = [.60, .40],\n",
    "    num_simulation = 500,\n",
    "    num_trading_days = 252 * 30)\n",
    "\n",
    "# Review the simulation input data\n",
    "portfolio_sim.portfolio_data.head()\n"
   ]
  },
  {
   "cell_type": "code",
   "execution_count": 137,
   "metadata": {},
   "outputs": [
    {
     "name": "stdout",
     "output_type": "stream",
     "text": [
      "Running Monte Carlo simulation number 0.\n",
      "Running Monte Carlo simulation number 10.\n",
      "Running Monte Carlo simulation number 20.\n",
      "Running Monte Carlo simulation number 30.\n",
      "Running Monte Carlo simulation number 40.\n",
      "Running Monte Carlo simulation number 50.\n",
      "Running Monte Carlo simulation number 60.\n",
      "Running Monte Carlo simulation number 70.\n",
      "Running Monte Carlo simulation number 80.\n",
      "Running Monte Carlo simulation number 90.\n",
      "Running Monte Carlo simulation number 100.\n"
     ]
    },
    {
     "name": "stderr",
     "output_type": "stream",
     "text": [
      "/Users/ricki/Desktop/github_upload/Starter_Code_challenge 5/MCForecastTools.py:117: PerformanceWarning: DataFrame is highly fragmented.  This is usually the result of calling `frame.insert` many times, which has poor performance.  Consider joining all columns at once using pd.concat(axis=1) instead.  To get a de-fragmented frame, use `newframe = frame.copy()`\n",
      "  portfolio_cumulative_returns[n] = (1 + sim_df.fillna(0)).cumprod()\n"
     ]
    },
    {
     "name": "stdout",
     "output_type": "stream",
     "text": [
      "Running Monte Carlo simulation number 110.\n",
      "Running Monte Carlo simulation number 120.\n",
      "Running Monte Carlo simulation number 130.\n",
      "Running Monte Carlo simulation number 140.\n",
      "Running Monte Carlo simulation number 150.\n",
      "Running Monte Carlo simulation number 160.\n",
      "Running Monte Carlo simulation number 170.\n",
      "Running Monte Carlo simulation number 180.\n",
      "Running Monte Carlo simulation number 190.\n",
      "Running Monte Carlo simulation number 200.\n",
      "Running Monte Carlo simulation number 210.\n",
      "Running Monte Carlo simulation number 220.\n",
      "Running Monte Carlo simulation number 230.\n",
      "Running Monte Carlo simulation number 240.\n",
      "Running Monte Carlo simulation number 250.\n",
      "Running Monte Carlo simulation number 260.\n",
      "Running Monte Carlo simulation number 270.\n",
      "Running Monte Carlo simulation number 280.\n",
      "Running Monte Carlo simulation number 290.\n",
      "Running Monte Carlo simulation number 300.\n",
      "Running Monte Carlo simulation number 310.\n",
      "Running Monte Carlo simulation number 320.\n",
      "Running Monte Carlo simulation number 330.\n",
      "Running Monte Carlo simulation number 340.\n",
      "Running Monte Carlo simulation number 350.\n",
      "Running Monte Carlo simulation number 360.\n",
      "Running Monte Carlo simulation number 370.\n",
      "Running Monte Carlo simulation number 380.\n",
      "Running Monte Carlo simulation number 390.\n",
      "Running Monte Carlo simulation number 400.\n",
      "Running Monte Carlo simulation number 410.\n",
      "Running Monte Carlo simulation number 420.\n",
      "Running Monte Carlo simulation number 430.\n",
      "Running Monte Carlo simulation number 440.\n",
      "Running Monte Carlo simulation number 450.\n",
      "Running Monte Carlo simulation number 460.\n",
      "Running Monte Carlo simulation number 470.\n",
      "Running Monte Carlo simulation number 480.\n",
      "Running Monte Carlo simulation number 490.\n"
     ]
    },
    {
     "data": {
      "text/html": [
       "<div>\n",
       "<style scoped>\n",
       "    .dataframe tbody tr th:only-of-type {\n",
       "        vertical-align: middle;\n",
       "    }\n",
       "\n",
       "    .dataframe tbody tr th {\n",
       "        vertical-align: top;\n",
       "    }\n",
       "\n",
       "    .dataframe thead th {\n",
       "        text-align: right;\n",
       "    }\n",
       "</style>\n",
       "<table border=\"1\" class=\"dataframe\">\n",
       "  <thead>\n",
       "    <tr style=\"text-align: right;\">\n",
       "      <th></th>\n",
       "      <th>0</th>\n",
       "      <th>1</th>\n",
       "      <th>2</th>\n",
       "      <th>3</th>\n",
       "      <th>4</th>\n",
       "      <th>5</th>\n",
       "      <th>6</th>\n",
       "      <th>7</th>\n",
       "      <th>8</th>\n",
       "      <th>9</th>\n",
       "      <th>...</th>\n",
       "      <th>490</th>\n",
       "      <th>491</th>\n",
       "      <th>492</th>\n",
       "      <th>493</th>\n",
       "      <th>494</th>\n",
       "      <th>495</th>\n",
       "      <th>496</th>\n",
       "      <th>497</th>\n",
       "      <th>498</th>\n",
       "      <th>499</th>\n",
       "    </tr>\n",
       "  </thead>\n",
       "  <tbody>\n",
       "    <tr>\n",
       "      <th>0</th>\n",
       "      <td>1.000000</td>\n",
       "      <td>1.000000</td>\n",
       "      <td>1.000000</td>\n",
       "      <td>1.000000</td>\n",
       "      <td>1.000000</td>\n",
       "      <td>1.000000</td>\n",
       "      <td>1.000000</td>\n",
       "      <td>1.000000</td>\n",
       "      <td>1.000000</td>\n",
       "      <td>1.000000</td>\n",
       "      <td>...</td>\n",
       "      <td>1.000000</td>\n",
       "      <td>1.000000</td>\n",
       "      <td>1.000000</td>\n",
       "      <td>1.000000</td>\n",
       "      <td>1.000000</td>\n",
       "      <td>1.000000</td>\n",
       "      <td>1.000000</td>\n",
       "      <td>1.000000</td>\n",
       "      <td>1.000000</td>\n",
       "      <td>1.000000</td>\n",
       "    </tr>\n",
       "    <tr>\n",
       "      <th>1</th>\n",
       "      <td>0.974340</td>\n",
       "      <td>1.010766</td>\n",
       "      <td>0.996884</td>\n",
       "      <td>1.000623</td>\n",
       "      <td>1.002085</td>\n",
       "      <td>0.998374</td>\n",
       "      <td>0.989953</td>\n",
       "      <td>0.995546</td>\n",
       "      <td>1.007184</td>\n",
       "      <td>0.986854</td>\n",
       "      <td>...</td>\n",
       "      <td>0.999988</td>\n",
       "      <td>1.006498</td>\n",
       "      <td>0.990878</td>\n",
       "      <td>0.989385</td>\n",
       "      <td>0.997926</td>\n",
       "      <td>0.989155</td>\n",
       "      <td>0.994744</td>\n",
       "      <td>1.010750</td>\n",
       "      <td>0.999587</td>\n",
       "      <td>0.999172</td>\n",
       "    </tr>\n",
       "    <tr>\n",
       "      <th>2</th>\n",
       "      <td>0.976118</td>\n",
       "      <td>1.015825</td>\n",
       "      <td>0.990419</td>\n",
       "      <td>0.993770</td>\n",
       "      <td>1.011833</td>\n",
       "      <td>0.998831</td>\n",
       "      <td>0.989244</td>\n",
       "      <td>1.008688</td>\n",
       "      <td>1.000406</td>\n",
       "      <td>0.993959</td>\n",
       "      <td>...</td>\n",
       "      <td>0.993390</td>\n",
       "      <td>1.026382</td>\n",
       "      <td>0.993451</td>\n",
       "      <td>0.990526</td>\n",
       "      <td>0.988573</td>\n",
       "      <td>0.985776</td>\n",
       "      <td>1.000844</td>\n",
       "      <td>0.996131</td>\n",
       "      <td>1.005981</td>\n",
       "      <td>0.991382</td>\n",
       "    </tr>\n",
       "    <tr>\n",
       "      <th>3</th>\n",
       "      <td>0.988770</td>\n",
       "      <td>1.012821</td>\n",
       "      <td>0.986585</td>\n",
       "      <td>0.987975</td>\n",
       "      <td>1.033902</td>\n",
       "      <td>1.012734</td>\n",
       "      <td>0.996656</td>\n",
       "      <td>1.014116</td>\n",
       "      <td>0.989866</td>\n",
       "      <td>0.999222</td>\n",
       "      <td>...</td>\n",
       "      <td>0.987884</td>\n",
       "      <td>1.025750</td>\n",
       "      <td>1.005330</td>\n",
       "      <td>0.998593</td>\n",
       "      <td>0.986166</td>\n",
       "      <td>0.999051</td>\n",
       "      <td>0.996724</td>\n",
       "      <td>0.997995</td>\n",
       "      <td>1.009414</td>\n",
       "      <td>0.976972</td>\n",
       "    </tr>\n",
       "    <tr>\n",
       "      <th>4</th>\n",
       "      <td>0.990506</td>\n",
       "      <td>1.024445</td>\n",
       "      <td>0.990165</td>\n",
       "      <td>0.988889</td>\n",
       "      <td>1.043226</td>\n",
       "      <td>1.007038</td>\n",
       "      <td>0.995741</td>\n",
       "      <td>1.016001</td>\n",
       "      <td>0.975026</td>\n",
       "      <td>1.002249</td>\n",
       "      <td>...</td>\n",
       "      <td>0.978057</td>\n",
       "      <td>1.026626</td>\n",
       "      <td>1.004288</td>\n",
       "      <td>1.008717</td>\n",
       "      <td>0.986191</td>\n",
       "      <td>0.994594</td>\n",
       "      <td>1.014501</td>\n",
       "      <td>1.003667</td>\n",
       "      <td>1.003240</td>\n",
       "      <td>0.977545</td>\n",
       "    </tr>\n",
       "    <tr>\n",
       "      <th>...</th>\n",
       "      <td>...</td>\n",
       "      <td>...</td>\n",
       "      <td>...</td>\n",
       "      <td>...</td>\n",
       "      <td>...</td>\n",
       "      <td>...</td>\n",
       "      <td>...</td>\n",
       "      <td>...</td>\n",
       "      <td>...</td>\n",
       "      <td>...</td>\n",
       "      <td>...</td>\n",
       "      <td>...</td>\n",
       "      <td>...</td>\n",
       "      <td>...</td>\n",
       "      <td>...</td>\n",
       "      <td>...</td>\n",
       "      <td>...</td>\n",
       "      <td>...</td>\n",
       "      <td>...</td>\n",
       "      <td>...</td>\n",
       "      <td>...</td>\n",
       "    </tr>\n",
       "    <tr>\n",
       "      <th>7556</th>\n",
       "      <td>1.456498</td>\n",
       "      <td>5.279650</td>\n",
       "      <td>2.285438</td>\n",
       "      <td>4.344239</td>\n",
       "      <td>8.482356</td>\n",
       "      <td>4.347321</td>\n",
       "      <td>4.859992</td>\n",
       "      <td>7.226829</td>\n",
       "      <td>19.462896</td>\n",
       "      <td>5.372786</td>\n",
       "      <td>...</td>\n",
       "      <td>4.458899</td>\n",
       "      <td>47.876083</td>\n",
       "      <td>24.904149</td>\n",
       "      <td>4.042860</td>\n",
       "      <td>0.949714</td>\n",
       "      <td>14.837692</td>\n",
       "      <td>12.177341</td>\n",
       "      <td>2.825947</td>\n",
       "      <td>4.714853</td>\n",
       "      <td>35.505440</td>\n",
       "    </tr>\n",
       "    <tr>\n",
       "      <th>7557</th>\n",
       "      <td>1.453344</td>\n",
       "      <td>5.189634</td>\n",
       "      <td>2.292903</td>\n",
       "      <td>4.331671</td>\n",
       "      <td>8.520963</td>\n",
       "      <td>4.292180</td>\n",
       "      <td>4.862299</td>\n",
       "      <td>7.201839</td>\n",
       "      <td>19.432762</td>\n",
       "      <td>5.371318</td>\n",
       "      <td>...</td>\n",
       "      <td>4.440463</td>\n",
       "      <td>47.803547</td>\n",
       "      <td>24.930666</td>\n",
       "      <td>3.992016</td>\n",
       "      <td>0.960485</td>\n",
       "      <td>14.731659</td>\n",
       "      <td>12.058711</td>\n",
       "      <td>2.814645</td>\n",
       "      <td>4.774176</td>\n",
       "      <td>35.371138</td>\n",
       "    </tr>\n",
       "    <tr>\n",
       "      <th>7558</th>\n",
       "      <td>1.425108</td>\n",
       "      <td>5.175870</td>\n",
       "      <td>2.299435</td>\n",
       "      <td>4.279348</td>\n",
       "      <td>8.733357</td>\n",
       "      <td>4.260189</td>\n",
       "      <td>4.807312</td>\n",
       "      <td>7.187710</td>\n",
       "      <td>19.299225</td>\n",
       "      <td>5.418139</td>\n",
       "      <td>...</td>\n",
       "      <td>4.348270</td>\n",
       "      <td>47.683515</td>\n",
       "      <td>24.562496</td>\n",
       "      <td>3.961947</td>\n",
       "      <td>0.971542</td>\n",
       "      <td>14.968458</td>\n",
       "      <td>12.026635</td>\n",
       "      <td>2.835305</td>\n",
       "      <td>4.723773</td>\n",
       "      <td>34.827990</td>\n",
       "    </tr>\n",
       "    <tr>\n",
       "      <th>7559</th>\n",
       "      <td>1.414838</td>\n",
       "      <td>5.224387</td>\n",
       "      <td>2.303051</td>\n",
       "      <td>4.204089</td>\n",
       "      <td>8.791552</td>\n",
       "      <td>4.208161</td>\n",
       "      <td>4.785525</td>\n",
       "      <td>7.298251</td>\n",
       "      <td>19.600557</td>\n",
       "      <td>5.409953</td>\n",
       "      <td>...</td>\n",
       "      <td>4.426254</td>\n",
       "      <td>47.495311</td>\n",
       "      <td>24.600559</td>\n",
       "      <td>3.933170</td>\n",
       "      <td>0.970726</td>\n",
       "      <td>14.874912</td>\n",
       "      <td>12.026703</td>\n",
       "      <td>2.841143</td>\n",
       "      <td>4.692013</td>\n",
       "      <td>35.016841</td>\n",
       "    </tr>\n",
       "    <tr>\n",
       "      <th>7560</th>\n",
       "      <td>1.411716</td>\n",
       "      <td>5.215598</td>\n",
       "      <td>2.349272</td>\n",
       "      <td>4.142292</td>\n",
       "      <td>8.703797</td>\n",
       "      <td>4.247090</td>\n",
       "      <td>4.708392</td>\n",
       "      <td>7.294414</td>\n",
       "      <td>19.582992</td>\n",
       "      <td>5.312796</td>\n",
       "      <td>...</td>\n",
       "      <td>4.414151</td>\n",
       "      <td>46.837363</td>\n",
       "      <td>24.839965</td>\n",
       "      <td>3.931651</td>\n",
       "      <td>0.968527</td>\n",
       "      <td>14.920037</td>\n",
       "      <td>12.123093</td>\n",
       "      <td>2.846219</td>\n",
       "      <td>4.691544</td>\n",
       "      <td>35.216000</td>\n",
       "    </tr>\n",
       "  </tbody>\n",
       "</table>\n",
       "<p>7561 rows × 500 columns</p>\n",
       "</div>"
      ],
      "text/plain": [
       "           0         1         2         3         4         5         6    \\\n",
       "0     1.000000  1.000000  1.000000  1.000000  1.000000  1.000000  1.000000   \n",
       "1     0.974340  1.010766  0.996884  1.000623  1.002085  0.998374  0.989953   \n",
       "2     0.976118  1.015825  0.990419  0.993770  1.011833  0.998831  0.989244   \n",
       "3     0.988770  1.012821  0.986585  0.987975  1.033902  1.012734  0.996656   \n",
       "4     0.990506  1.024445  0.990165  0.988889  1.043226  1.007038  0.995741   \n",
       "...        ...       ...       ...       ...       ...       ...       ...   \n",
       "7556  1.456498  5.279650  2.285438  4.344239  8.482356  4.347321  4.859992   \n",
       "7557  1.453344  5.189634  2.292903  4.331671  8.520963  4.292180  4.862299   \n",
       "7558  1.425108  5.175870  2.299435  4.279348  8.733357  4.260189  4.807312   \n",
       "7559  1.414838  5.224387  2.303051  4.204089  8.791552  4.208161  4.785525   \n",
       "7560  1.411716  5.215598  2.349272  4.142292  8.703797  4.247090  4.708392   \n",
       "\n",
       "           7          8         9    ...       490        491        492  \\\n",
       "0     1.000000   1.000000  1.000000  ...  1.000000   1.000000   1.000000   \n",
       "1     0.995546   1.007184  0.986854  ...  0.999988   1.006498   0.990878   \n",
       "2     1.008688   1.000406  0.993959  ...  0.993390   1.026382   0.993451   \n",
       "3     1.014116   0.989866  0.999222  ...  0.987884   1.025750   1.005330   \n",
       "4     1.016001   0.975026  1.002249  ...  0.978057   1.026626   1.004288   \n",
       "...        ...        ...       ...  ...       ...        ...        ...   \n",
       "7556  7.226829  19.462896  5.372786  ...  4.458899  47.876083  24.904149   \n",
       "7557  7.201839  19.432762  5.371318  ...  4.440463  47.803547  24.930666   \n",
       "7558  7.187710  19.299225  5.418139  ...  4.348270  47.683515  24.562496   \n",
       "7559  7.298251  19.600557  5.409953  ...  4.426254  47.495311  24.600559   \n",
       "7560  7.294414  19.582992  5.312796  ...  4.414151  46.837363  24.839965   \n",
       "\n",
       "           493       494        495        496       497       498        499  \n",
       "0     1.000000  1.000000   1.000000   1.000000  1.000000  1.000000   1.000000  \n",
       "1     0.989385  0.997926   0.989155   0.994744  1.010750  0.999587   0.999172  \n",
       "2     0.990526  0.988573   0.985776   1.000844  0.996131  1.005981   0.991382  \n",
       "3     0.998593  0.986166   0.999051   0.996724  0.997995  1.009414   0.976972  \n",
       "4     1.008717  0.986191   0.994594   1.014501  1.003667  1.003240   0.977545  \n",
       "...        ...       ...        ...        ...       ...       ...        ...  \n",
       "7556  4.042860  0.949714  14.837692  12.177341  2.825947  4.714853  35.505440  \n",
       "7557  3.992016  0.960485  14.731659  12.058711  2.814645  4.774176  35.371138  \n",
       "7558  3.961947  0.971542  14.968458  12.026635  2.835305  4.723773  34.827990  \n",
       "7559  3.933170  0.970726  14.874912  12.026703  2.841143  4.692013  35.016841  \n",
       "7560  3.931651  0.968527  14.920037  12.123093  2.846219  4.691544  35.216000  \n",
       "\n",
       "[7561 rows x 500 columns]"
      ]
     },
     "execution_count": 137,
     "metadata": {},
     "output_type": "execute_result"
    }
   ],
   "source": [
    "# Run the Monte Carlo simulation to forecast 30 years cumulative returns\n",
    "portfolio_sim.calc_cumulative_return()\n"
   ]
  },
  {
   "cell_type": "code",
   "execution_count": 138,
   "metadata": {},
   "outputs": [
    {
     "data": {
      "text/plain": [
       "<AxesSubplot:title={'center':'500 Simulations of Cumulative Portfolio Return Trajectories Over the Next 7560 Trading Days.'}>"
      ]
     },
     "execution_count": 138,
     "metadata": {},
     "output_type": "execute_result"
    },
    {
     "data": {
      "image/png": "[encoded data removed]",
      "text/plain": [
       "<Figure size 432x288 with 1 Axes>"
      ]
     },
     "metadata": {
      "needs_background": "light"
     },
     "output_type": "display_data"
    }
   ],
   "source": [
    "# Visualize the 30-year Monte Carlo simulation by creating an\n",
    "# overlay line plot\n",
    "portfolio_sim.plot_simulation()\n"
   ]
  },
  {
   "cell_type": "markdown",
   "metadata": {},
   "source": [
    "#### Step 3: Plot the probability distribution of the Monte Carlo simulation."
   ]
  },
  {
   "cell_type": "code",
   "execution_count": 139,
   "metadata": {},
   "outputs": [
    {
     "data": {
      "text/plain": [
       "<AxesSubplot:title={'center':'Distribution of Final Cumuluative Returns Across All 500 Simulations'}, ylabel='Frequency'>"
      ]
     },
     "execution_count": 139,
     "metadata": {},
     "output_type": "execute_result"
    },
    {
     "data": {
      "image/png": "[encoded data removed]",
      "text/plain": [
       "<Figure size 432x288 with 1 Axes>"
      ]
     },
     "metadata": {
      "needs_background": "light"
     },
     "output_type": "display_data"
    }
   ],
   "source": [
    "# Visualize the probability distribution of the 30-year Monte Carlo simulation \n",
    "# by plotting a histogram\n",
    "portfolio_sim.plot_distribution()\n"
   ]
  },
  {
   "cell_type": "markdown",
   "metadata": {},
   "source": [
    "#### Step 4: Generate the summary statistics for the Monte Carlo simulation."
   ]
  },
  {
   "cell_type": "code",
   "execution_count": 140,
   "metadata": {},
   "outputs": [
    {
     "data": {
      "text/plain": [
       "count           500.000000\n",
       "mean              8.678600\n",
       "std               7.929330\n",
       "min               0.551551\n",
       "25%               3.455300\n",
       "50%               6.175961\n",
       "75%              10.786499\n",
       "max              53.388774\n",
       "95% CI Lower      1.184572\n",
       "95% CI Upper     30.617129\n",
       "Name: 7560, dtype: float64"
      ]
     },
     "execution_count": 140,
     "metadata": {},
     "output_type": "execute_result"
    }
   ],
   "source": [
    "# Generate summary statistics from the 30-year Monte Carlo simulation results\n",
    "# Save the results as a variable\n",
    "portfolio_summary = portfolio_sim.summarize_cumulative_return()\n",
    "\n",
    "\n",
    "# Review the 30-year Monte Carlo summary statistics\n",
    "portfolio_summary"
   ]
  },
  {
   "cell_type": "markdown",
   "metadata": {},
   "source": [
    "### Analyze the Retirement Portfolio Forecasts\n",
    "\n",
    "Using the current value of only the stock and bond portion of the member's portfolio and the summary statistics that you generated from the Monte Carlo simulation, answer the following question in your Jupyter notebook:\n",
    "\n",
    "-  What are the lower and upper bounds for the expected value of the portfolio with a 95% confidence interval?\n"
   ]
  },
  {
   "cell_type": "code",
   "execution_count": 141,
   "metadata": {},
   "outputs": [
    {
     "name": "stdout",
     "output_type": "stream",
     "text": [
      "$66132.90\n"
     ]
    }
   ],
   "source": [
    "# Print the current balance of the stock and bond portion of the members portfolio\n",
    "print(f'${total_stocks_bonds:.2f}')\n"
   ]
  },
  {
   "cell_type": "code",
   "execution_count": 142,
   "metadata": {},
   "outputs": [
    {
     "name": "stdout",
     "output_type": "stream",
     "text": [
      "95% certainty that after 30 years, the portfolio value will be in the range between $121202.77, and $3132675.48\n"
     ]
    }
   ],
   "source": [
    "# Use the lower and upper `95%` confidence intervals to calculate the range of the possible outcomes for the current stock/bond portfolio\n",
    "ci_lower_thirty_cumulative_return = total_portfolio * portfolio_summary[8]\n",
    "ci_upper_thirty_cumulative_return = total_portfolio * portfolio_summary[9]\n",
    "\n",
    "# Print the result of your calculations\n",
    "print(f'95% certainty that after 30 years, the portfolio value will be in the range between ${ci_lower_thirty_cumulative_return:.2f}, and ${ci_upper_thirty_cumulative_return:.2f}')\n"
   ]
  },
  {
   "cell_type": "markdown",
   "metadata": {},
   "source": [
    "## Forecast Cumulative Returns in 10 Years\n",
    "\n",
    "The CTO of the credit union is impressed with your work on these planning tools but wonders if 30 years is a long time to wait until retirement. So, your next task is to adjust the retirement portfolio and run a new Monte Carlo simulation to find out if the changes will allow members to retire earlier.\n",
    "\n",
    "For this new Monte Carlo simulation, do the following: \n",
    "\n",
    "- Forecast the cumulative returns for 10 years from now. Because of the shortened investment horizon (30 years to 10 years), the portfolio needs to invest more heavily in the riskier asset&mdash;that is, stock&mdash;to help accumulate wealth for retirement. \n",
    "\n",
    "- Adjust the weights of the retirement portfolio so that the composition for the Monte Carlo simulation consists of 20% bonds and 80% stocks. \n",
    "\n",
    "- Run the simulation over 500 samples, and use the same data that the API call to Alpaca generated.\n",
    "\n",
    "- Based on the new Monte Carlo simulation, answer the following questions in your Jupyter notebook:\n",
    "\n",
    "    - Using the current value of only the stock and bond portion of the member's portfolio and the summary statistics that you generated from the new Monte Carlo simulation, what are the lower and upper bounds for the expected value of the portfolio (with the new weights) with a 95% confidence interval?\n",
    "\n",
    "    - Will weighting the portfolio more heavily toward stocks allow the credit union members to retire after only 10 years?\n"
   ]
  },
  {
   "cell_type": "code",
   "execution_count": 143,
   "metadata": {},
   "outputs": [
    {
     "data": {
      "text/html": [
       "<div>\n",
       "<style scoped>\n",
       "    .dataframe tbody tr th:only-of-type {\n",
       "        vertical-align: middle;\n",
       "    }\n",
       "\n",
       "    .dataframe tbody tr th {\n",
       "        vertical-align: top;\n",
       "    }\n",
       "\n",
       "    .dataframe thead tr th {\n",
       "        text-align: left;\n",
       "    }\n",
       "\n",
       "    .dataframe thead tr:last-of-type th {\n",
       "        text-align: right;\n",
       "    }\n",
       "</style>\n",
       "<table border=\"1\" class=\"dataframe\">\n",
       "  <thead>\n",
       "    <tr>\n",
       "      <th></th>\n",
       "      <th colspan=\"8\" halign=\"left\">SPY</th>\n",
       "      <th colspan=\"8\" halign=\"left\">AGG</th>\n",
       "    </tr>\n",
       "    <tr>\n",
       "      <th></th>\n",
       "      <th>open</th>\n",
       "      <th>high</th>\n",
       "      <th>low</th>\n",
       "      <th>close</th>\n",
       "      <th>volume</th>\n",
       "      <th>trade_count</th>\n",
       "      <th>vwap</th>\n",
       "      <th>daily_return</th>\n",
       "      <th>open</th>\n",
       "      <th>high</th>\n",
       "      <th>low</th>\n",
       "      <th>close</th>\n",
       "      <th>volume</th>\n",
       "      <th>trade_count</th>\n",
       "      <th>vwap</th>\n",
       "      <th>daily_return</th>\n",
       "    </tr>\n",
       "    <tr>\n",
       "      <th>timestamp</th>\n",
       "      <th></th>\n",
       "      <th></th>\n",
       "      <th></th>\n",
       "      <th></th>\n",
       "      <th></th>\n",
       "      <th></th>\n",
       "      <th></th>\n",
       "      <th></th>\n",
       "      <th></th>\n",
       "      <th></th>\n",
       "      <th></th>\n",
       "      <th></th>\n",
       "      <th></th>\n",
       "      <th></th>\n",
       "      <th></th>\n",
       "      <th></th>\n",
       "    </tr>\n",
       "  </thead>\n",
       "  <tbody>\n",
       "    <tr>\n",
       "      <th>2019-07-29 04:00:00+00:00</th>\n",
       "      <td>301.85</td>\n",
       "      <td>302.01</td>\n",
       "      <td>300.85</td>\n",
       "      <td>301.46</td>\n",
       "      <td>38182966</td>\n",
       "      <td>185789</td>\n",
       "      <td>301.477510</td>\n",
       "      <td>NaN</td>\n",
       "      <td>111.30</td>\n",
       "      <td>111.35</td>\n",
       "      <td>111.22</td>\n",
       "      <td>111.26</td>\n",
       "      <td>4667109</td>\n",
       "      <td>9067</td>\n",
       "      <td>111.287204</td>\n",
       "      <td>NaN</td>\n",
       "    </tr>\n",
       "    <tr>\n",
       "      <th>2019-07-30 04:00:00+00:00</th>\n",
       "      <td>299.90</td>\n",
       "      <td>301.17</td>\n",
       "      <td>299.49</td>\n",
       "      <td>300.72</td>\n",
       "      <td>46360267</td>\n",
       "      <td>208893</td>\n",
       "      <td>300.597002</td>\n",
       "      <td>-0.002455</td>\n",
       "      <td>111.27</td>\n",
       "      <td>111.33</td>\n",
       "      <td>111.16</td>\n",
       "      <td>111.25</td>\n",
       "      <td>2409278</td>\n",
       "      <td>9125</td>\n",
       "      <td>111.240710</td>\n",
       "      <td>-0.000090</td>\n",
       "    </tr>\n",
       "    <tr>\n",
       "      <th>2019-07-31 04:00:00+00:00</th>\n",
       "      <td>300.98</td>\n",
       "      <td>301.20</td>\n",
       "      <td>295.20</td>\n",
       "      <td>297.43</td>\n",
       "      <td>104971212</td>\n",
       "      <td>537642</td>\n",
       "      <td>298.744183</td>\n",
       "      <td>-0.010940</td>\n",
       "      <td>111.30</td>\n",
       "      <td>111.59</td>\n",
       "      <td>111.07</td>\n",
       "      <td>111.30</td>\n",
       "      <td>12972717</td>\n",
       "      <td>17896</td>\n",
       "      <td>111.389988</td>\n",
       "      <td>0.000449</td>\n",
       "    </tr>\n",
       "    <tr>\n",
       "      <th>2019-08-01 04:00:00+00:00</th>\n",
       "      <td>297.56</td>\n",
       "      <td>300.87</td>\n",
       "      <td>293.96</td>\n",
       "      <td>294.84</td>\n",
       "      <td>142653060</td>\n",
       "      <td>771413</td>\n",
       "      <td>296.650886</td>\n",
       "      <td>-0.008708</td>\n",
       "      <td>111.34</td>\n",
       "      <td>111.95</td>\n",
       "      <td>111.26</td>\n",
       "      <td>111.91</td>\n",
       "      <td>5709211</td>\n",
       "      <td>22712</td>\n",
       "      <td>111.700343</td>\n",
       "      <td>0.005481</td>\n",
       "    </tr>\n",
       "    <tr>\n",
       "      <th>2019-08-02 04:00:00+00:00</th>\n",
       "      <td>293.86</td>\n",
       "      <td>294.12</td>\n",
       "      <td>290.90</td>\n",
       "      <td>292.62</td>\n",
       "      <td>118248370</td>\n",
       "      <td>552082</td>\n",
       "      <td>292.544668</td>\n",
       "      <td>-0.007530</td>\n",
       "      <td>111.93</td>\n",
       "      <td>112.04</td>\n",
       "      <td>111.82</td>\n",
       "      <td>111.95</td>\n",
       "      <td>3293739</td>\n",
       "      <td>16662</td>\n",
       "      <td>111.917417</td>\n",
       "      <td>0.000357</td>\n",
       "    </tr>\n",
       "  </tbody>\n",
       "</table>\n",
       "</div>"
      ],
      "text/plain": [
       "                              SPY                                     \\\n",
       "                             open    high     low   close     volume   \n",
       "timestamp                                                              \n",
       "2019-07-29 04:00:00+00:00  301.85  302.01  300.85  301.46   38182966   \n",
       "2019-07-30 04:00:00+00:00  299.90  301.17  299.49  300.72   46360267   \n",
       "2019-07-31 04:00:00+00:00  300.98  301.20  295.20  297.43  104971212   \n",
       "2019-08-01 04:00:00+00:00  297.56  300.87  293.96  294.84  142653060   \n",
       "2019-08-02 04:00:00+00:00  293.86  294.12  290.90  292.62  118248370   \n",
       "\n",
       "                                                                   AGG  \\\n",
       "                          trade_count        vwap daily_return    open   \n",
       "timestamp                                                                \n",
       "2019-07-29 04:00:00+00:00      185789  301.477510          NaN  111.30   \n",
       "2019-07-30 04:00:00+00:00      208893  300.597002    -0.002455  111.27   \n",
       "2019-07-31 04:00:00+00:00      537642  298.744183    -0.010940  111.30   \n",
       "2019-08-01 04:00:00+00:00      771413  296.650886    -0.008708  111.34   \n",
       "2019-08-02 04:00:00+00:00      552082  292.544668    -0.007530  111.93   \n",
       "\n",
       "                                                                         \\\n",
       "                             high     low   close    volume trade_count   \n",
       "timestamp                                                                 \n",
       "2019-07-29 04:00:00+00:00  111.35  111.22  111.26   4667109        9067   \n",
       "2019-07-30 04:00:00+00:00  111.33  111.16  111.25   2409278        9125   \n",
       "2019-07-31 04:00:00+00:00  111.59  111.07  111.30  12972717       17896   \n",
       "2019-08-01 04:00:00+00:00  111.95  111.26  111.91   5709211       22712   \n",
       "2019-08-02 04:00:00+00:00  112.04  111.82  111.95   3293739       16662   \n",
       "\n",
       "                                                    \n",
       "                                 vwap daily_return  \n",
       "timestamp                                           \n",
       "2019-07-29 04:00:00+00:00  111.287204          NaN  \n",
       "2019-07-30 04:00:00+00:00  111.240710    -0.000090  \n",
       "2019-07-31 04:00:00+00:00  111.389988     0.000449  \n",
       "2019-08-01 04:00:00+00:00  111.700343     0.005481  \n",
       "2019-08-02 04:00:00+00:00  111.917417     0.000357  "
      ]
     },
     "execution_count": 143,
     "metadata": {},
     "output_type": "execute_result"
    }
   ],
   "source": [
    "# Configure a Monte Carlo simulation to forecast 10 years cumulative returns\n",
    "# The weights should be split 20% to AGG and 80% to SPY.\n",
    "# Run 500 samples.\n",
    "portfolio_ten = MCSimulation(\n",
    "    portfolio_data = response_df,\n",
    "    weights = [.80,.20],\n",
    "    num_simulation = 500,\n",
    "    num_trading_days = 252 * 10)\n",
    "\n",
    "# Review the simulation input data\n",
    "portfolio_ten.portfolio_data.head()\n"
   ]
  },
  {
   "cell_type": "code",
   "execution_count": 144,
   "metadata": {},
   "outputs": [
    {
     "name": "stdout",
     "output_type": "stream",
     "text": [
      "Running Monte Carlo simulation number 0.\n",
      "Running Monte Carlo simulation number 10.\n",
      "Running Monte Carlo simulation number 20.\n",
      "Running Monte Carlo simulation number 30.\n",
      "Running Monte Carlo simulation number 40.\n",
      "Running Monte Carlo simulation number 50.\n",
      "Running Monte Carlo simulation number 60.\n",
      "Running Monte Carlo simulation number 70.\n",
      "Running Monte Carlo simulation number 80.\n",
      "Running Monte Carlo simulation number 90.\n",
      "Running Monte Carlo simulation number 100.\n"
     ]
    },
    {
     "name": "stderr",
     "output_type": "stream",
     "text": [
      "/Users/ricki/Desktop/github_upload/Starter_Code_challenge 5/MCForecastTools.py:117: PerformanceWarning: DataFrame is highly fragmented.  This is usually the result of calling `frame.insert` many times, which has poor performance.  Consider joining all columns at once using pd.concat(axis=1) instead.  To get a de-fragmented frame, use `newframe = frame.copy()`\n",
      "  portfolio_cumulative_returns[n] = (1 + sim_df.fillna(0)).cumprod()\n"
     ]
    },
    {
     "name": "stdout",
     "output_type": "stream",
     "text": [
      "Running Monte Carlo simulation number 110.\n",
      "Running Monte Carlo simulation number 120.\n",
      "Running Monte Carlo simulation number 130.\n",
      "Running Monte Carlo simulation number 140.\n",
      "Running Monte Carlo simulation number 150.\n",
      "Running Monte Carlo simulation number 160.\n",
      "Running Monte Carlo simulation number 170.\n",
      "Running Monte Carlo simulation number 180.\n",
      "Running Monte Carlo simulation number 190.\n",
      "Running Monte Carlo simulation number 200.\n",
      "Running Monte Carlo simulation number 210.\n",
      "Running Monte Carlo simulation number 220.\n",
      "Running Monte Carlo simulation number 230.\n",
      "Running Monte Carlo simulation number 240.\n",
      "Running Monte Carlo simulation number 250.\n",
      "Running Monte Carlo simulation number 260.\n",
      "Running Monte Carlo simulation number 270.\n",
      "Running Monte Carlo simulation number 280.\n",
      "Running Monte Carlo simulation number 290.\n",
      "Running Monte Carlo simulation number 300.\n",
      "Running Monte Carlo simulation number 310.\n",
      "Running Monte Carlo simulation number 320.\n",
      "Running Monte Carlo simulation number 330.\n",
      "Running Monte Carlo simulation number 340.\n",
      "Running Monte Carlo simulation number 350.\n",
      "Running Monte Carlo simulation number 360.\n",
      "Running Monte Carlo simulation number 370.\n",
      "Running Monte Carlo simulation number 380.\n",
      "Running Monte Carlo simulation number 390.\n",
      "Running Monte Carlo simulation number 400.\n",
      "Running Monte Carlo simulation number 410.\n",
      "Running Monte Carlo simulation number 420.\n",
      "Running Monte Carlo simulation number 430.\n",
      "Running Monte Carlo simulation number 440.\n",
      "Running Monte Carlo simulation number 450.\n",
      "Running Monte Carlo simulation number 460.\n",
      "Running Monte Carlo simulation number 470.\n",
      "Running Monte Carlo simulation number 480.\n",
      "Running Monte Carlo simulation number 490.\n"
     ]
    },
    {
     "data": {
      "text/html": [
       "<div>\n",
       "<style scoped>\n",
       "    .dataframe tbody tr th:only-of-type {\n",
       "        vertical-align: middle;\n",
       "    }\n",
       "\n",
       "    .dataframe tbody tr th {\n",
       "        vertical-align: top;\n",
       "    }\n",
       "\n",
       "    .dataframe thead th {\n",
       "        text-align: right;\n",
       "    }\n",
       "</style>\n",
       "<table border=\"1\" class=\"dataframe\">\n",
       "  <thead>\n",
       "    <tr style=\"text-align: right;\">\n",
       "      <th></th>\n",
       "      <th>0</th>\n",
       "      <th>1</th>\n",
       "      <th>2</th>\n",
       "      <th>3</th>\n",
       "      <th>4</th>\n",
       "      <th>5</th>\n",
       "      <th>6</th>\n",
       "      <th>7</th>\n",
       "      <th>8</th>\n",
       "      <th>9</th>\n",
       "      <th>...</th>\n",
       "      <th>490</th>\n",
       "      <th>491</th>\n",
       "      <th>492</th>\n",
       "      <th>493</th>\n",
       "      <th>494</th>\n",
       "      <th>495</th>\n",
       "      <th>496</th>\n",
       "      <th>497</th>\n",
       "      <th>498</th>\n",
       "      <th>499</th>\n",
       "    </tr>\n",
       "  </thead>\n",
       "  <tbody>\n",
       "    <tr>\n",
       "      <th>0</th>\n",
       "      <td>1.000000</td>\n",
       "      <td>1.000000</td>\n",
       "      <td>1.000000</td>\n",
       "      <td>1.000000</td>\n",
       "      <td>1.000000</td>\n",
       "      <td>1.000000</td>\n",
       "      <td>1.000000</td>\n",
       "      <td>1.000000</td>\n",
       "      <td>1.000000</td>\n",
       "      <td>1.000000</td>\n",
       "      <td>...</td>\n",
       "      <td>1.000000</td>\n",
       "      <td>1.000000</td>\n",
       "      <td>1.000000</td>\n",
       "      <td>1.000000</td>\n",
       "      <td>1.000000</td>\n",
       "      <td>1.000000</td>\n",
       "      <td>1.000000</td>\n",
       "      <td>1.000000</td>\n",
       "      <td>1.000000</td>\n",
       "      <td>1.000000</td>\n",
       "    </tr>\n",
       "    <tr>\n",
       "      <th>1</th>\n",
       "      <td>1.002911</td>\n",
       "      <td>0.996478</td>\n",
       "      <td>0.994796</td>\n",
       "      <td>0.990167</td>\n",
       "      <td>1.006070</td>\n",
       "      <td>1.000524</td>\n",
       "      <td>1.007863</td>\n",
       "      <td>1.001617</td>\n",
       "      <td>0.999595</td>\n",
       "      <td>0.989755</td>\n",
       "      <td>...</td>\n",
       "      <td>0.982871</td>\n",
       "      <td>0.999018</td>\n",
       "      <td>0.979968</td>\n",
       "      <td>0.998011</td>\n",
       "      <td>0.982835</td>\n",
       "      <td>0.992322</td>\n",
       "      <td>1.004764</td>\n",
       "      <td>1.004945</td>\n",
       "      <td>1.004770</td>\n",
       "      <td>1.022426</td>\n",
       "    </tr>\n",
       "    <tr>\n",
       "      <th>2</th>\n",
       "      <td>0.986798</td>\n",
       "      <td>1.006190</td>\n",
       "      <td>0.991582</td>\n",
       "      <td>0.992618</td>\n",
       "      <td>1.009334</td>\n",
       "      <td>0.997506</td>\n",
       "      <td>1.013842</td>\n",
       "      <td>1.013271</td>\n",
       "      <td>1.002822</td>\n",
       "      <td>0.981693</td>\n",
       "      <td>...</td>\n",
       "      <td>0.974968</td>\n",
       "      <td>0.998073</td>\n",
       "      <td>0.987863</td>\n",
       "      <td>0.988164</td>\n",
       "      <td>0.985393</td>\n",
       "      <td>0.981357</td>\n",
       "      <td>1.012304</td>\n",
       "      <td>1.004352</td>\n",
       "      <td>1.000389</td>\n",
       "      <td>0.997697</td>\n",
       "    </tr>\n",
       "    <tr>\n",
       "      <th>3</th>\n",
       "      <td>0.997649</td>\n",
       "      <td>0.998999</td>\n",
       "      <td>0.988299</td>\n",
       "      <td>0.985783</td>\n",
       "      <td>0.995888</td>\n",
       "      <td>1.000784</td>\n",
       "      <td>1.003353</td>\n",
       "      <td>1.006708</td>\n",
       "      <td>1.005180</td>\n",
       "      <td>0.974009</td>\n",
       "      <td>...</td>\n",
       "      <td>0.983130</td>\n",
       "      <td>1.021412</td>\n",
       "      <td>0.984743</td>\n",
       "      <td>0.984397</td>\n",
       "      <td>0.991072</td>\n",
       "      <td>0.971363</td>\n",
       "      <td>1.014119</td>\n",
       "      <td>0.982675</td>\n",
       "      <td>0.997380</td>\n",
       "      <td>1.002331</td>\n",
       "    </tr>\n",
       "    <tr>\n",
       "      <th>4</th>\n",
       "      <td>0.994303</td>\n",
       "      <td>0.977965</td>\n",
       "      <td>1.016668</td>\n",
       "      <td>0.983306</td>\n",
       "      <td>0.998417</td>\n",
       "      <td>0.990539</td>\n",
       "      <td>1.014515</td>\n",
       "      <td>0.980172</td>\n",
       "      <td>1.022805</td>\n",
       "      <td>0.979064</td>\n",
       "      <td>...</td>\n",
       "      <td>0.977182</td>\n",
       "      <td>1.018379</td>\n",
       "      <td>0.993647</td>\n",
       "      <td>1.002006</td>\n",
       "      <td>0.992956</td>\n",
       "      <td>0.969440</td>\n",
       "      <td>1.010328</td>\n",
       "      <td>0.955218</td>\n",
       "      <td>0.999413</td>\n",
       "      <td>0.982851</td>\n",
       "    </tr>\n",
       "    <tr>\n",
       "      <th>...</th>\n",
       "      <td>...</td>\n",
       "      <td>...</td>\n",
       "      <td>...</td>\n",
       "      <td>...</td>\n",
       "      <td>...</td>\n",
       "      <td>...</td>\n",
       "      <td>...</td>\n",
       "      <td>...</td>\n",
       "      <td>...</td>\n",
       "      <td>...</td>\n",
       "      <td>...</td>\n",
       "      <td>...</td>\n",
       "      <td>...</td>\n",
       "      <td>...</td>\n",
       "      <td>...</td>\n",
       "      <td>...</td>\n",
       "      <td>...</td>\n",
       "      <td>...</td>\n",
       "      <td>...</td>\n",
       "      <td>...</td>\n",
       "      <td>...</td>\n",
       "    </tr>\n",
       "    <tr>\n",
       "      <th>2516</th>\n",
       "      <td>4.376797</td>\n",
       "      <td>0.862975</td>\n",
       "      <td>5.854567</td>\n",
       "      <td>5.472266</td>\n",
       "      <td>1.784170</td>\n",
       "      <td>0.942142</td>\n",
       "      <td>2.491960</td>\n",
       "      <td>2.441084</td>\n",
       "      <td>4.584506</td>\n",
       "      <td>1.021191</td>\n",
       "      <td>...</td>\n",
       "      <td>2.004211</td>\n",
       "      <td>2.808818</td>\n",
       "      <td>5.487444</td>\n",
       "      <td>2.283185</td>\n",
       "      <td>3.987964</td>\n",
       "      <td>3.008898</td>\n",
       "      <td>3.019104</td>\n",
       "      <td>4.072716</td>\n",
       "      <td>2.225732</td>\n",
       "      <td>1.580196</td>\n",
       "    </tr>\n",
       "    <tr>\n",
       "      <th>2517</th>\n",
       "      <td>4.377347</td>\n",
       "      <td>0.872868</td>\n",
       "      <td>5.859806</td>\n",
       "      <td>5.472526</td>\n",
       "      <td>1.776779</td>\n",
       "      <td>0.947967</td>\n",
       "      <td>2.506188</td>\n",
       "      <td>2.432709</td>\n",
       "      <td>4.662510</td>\n",
       "      <td>1.004372</td>\n",
       "      <td>...</td>\n",
       "      <td>1.958902</td>\n",
       "      <td>2.810846</td>\n",
       "      <td>5.390375</td>\n",
       "      <td>2.322767</td>\n",
       "      <td>4.036238</td>\n",
       "      <td>3.045453</td>\n",
       "      <td>3.000682</td>\n",
       "      <td>4.070942</td>\n",
       "      <td>2.200713</td>\n",
       "      <td>1.564802</td>\n",
       "    </tr>\n",
       "    <tr>\n",
       "      <th>2518</th>\n",
       "      <td>4.346651</td>\n",
       "      <td>0.865617</td>\n",
       "      <td>6.007565</td>\n",
       "      <td>5.357357</td>\n",
       "      <td>1.789459</td>\n",
       "      <td>0.944454</td>\n",
       "      <td>2.547441</td>\n",
       "      <td>2.465088</td>\n",
       "      <td>4.705683</td>\n",
       "      <td>1.013399</td>\n",
       "      <td>...</td>\n",
       "      <td>1.948212</td>\n",
       "      <td>2.830082</td>\n",
       "      <td>5.412500</td>\n",
       "      <td>2.357172</td>\n",
       "      <td>4.087648</td>\n",
       "      <td>3.041980</td>\n",
       "      <td>2.973303</td>\n",
       "      <td>3.971507</td>\n",
       "      <td>2.182740</td>\n",
       "      <td>1.545346</td>\n",
       "    </tr>\n",
       "    <tr>\n",
       "      <th>2519</th>\n",
       "      <td>4.377932</td>\n",
       "      <td>0.868840</td>\n",
       "      <td>6.129628</td>\n",
       "      <td>5.362163</td>\n",
       "      <td>1.813988</td>\n",
       "      <td>0.928895</td>\n",
       "      <td>2.555155</td>\n",
       "      <td>2.461197</td>\n",
       "      <td>4.734428</td>\n",
       "      <td>1.013947</td>\n",
       "      <td>...</td>\n",
       "      <td>1.947877</td>\n",
       "      <td>2.848446</td>\n",
       "      <td>5.343220</td>\n",
       "      <td>2.376454</td>\n",
       "      <td>4.146218</td>\n",
       "      <td>3.035493</td>\n",
       "      <td>3.021313</td>\n",
       "      <td>3.988192</td>\n",
       "      <td>2.217635</td>\n",
       "      <td>1.541775</td>\n",
       "    </tr>\n",
       "    <tr>\n",
       "      <th>2520</th>\n",
       "      <td>4.334256</td>\n",
       "      <td>0.879562</td>\n",
       "      <td>6.280280</td>\n",
       "      <td>5.515897</td>\n",
       "      <td>1.779373</td>\n",
       "      <td>0.915408</td>\n",
       "      <td>2.575441</td>\n",
       "      <td>2.491607</td>\n",
       "      <td>4.744821</td>\n",
       "      <td>1.018484</td>\n",
       "      <td>...</td>\n",
       "      <td>1.905604</td>\n",
       "      <td>2.891394</td>\n",
       "      <td>5.302014</td>\n",
       "      <td>2.372343</td>\n",
       "      <td>4.143662</td>\n",
       "      <td>3.023117</td>\n",
       "      <td>2.993154</td>\n",
       "      <td>3.977028</td>\n",
       "      <td>2.170939</td>\n",
       "      <td>1.500767</td>\n",
       "    </tr>\n",
       "  </tbody>\n",
       "</table>\n",
       "<p>2521 rows × 500 columns</p>\n",
       "</div>"
      ],
      "text/plain": [
       "           0         1         2         3         4         5         6    \\\n",
       "0     1.000000  1.000000  1.000000  1.000000  1.000000  1.000000  1.000000   \n",
       "1     1.002911  0.996478  0.994796  0.990167  1.006070  1.000524  1.007863   \n",
       "2     0.986798  1.006190  0.991582  0.992618  1.009334  0.997506  1.013842   \n",
       "3     0.997649  0.998999  0.988299  0.985783  0.995888  1.000784  1.003353   \n",
       "4     0.994303  0.977965  1.016668  0.983306  0.998417  0.990539  1.014515   \n",
       "...        ...       ...       ...       ...       ...       ...       ...   \n",
       "2516  4.376797  0.862975  5.854567  5.472266  1.784170  0.942142  2.491960   \n",
       "2517  4.377347  0.872868  5.859806  5.472526  1.776779  0.947967  2.506188   \n",
       "2518  4.346651  0.865617  6.007565  5.357357  1.789459  0.944454  2.547441   \n",
       "2519  4.377932  0.868840  6.129628  5.362163  1.813988  0.928895  2.555155   \n",
       "2520  4.334256  0.879562  6.280280  5.515897  1.779373  0.915408  2.575441   \n",
       "\n",
       "           7         8         9    ...       490       491       492  \\\n",
       "0     1.000000  1.000000  1.000000  ...  1.000000  1.000000  1.000000   \n",
       "1     1.001617  0.999595  0.989755  ...  0.982871  0.999018  0.979968   \n",
       "2     1.013271  1.002822  0.981693  ...  0.974968  0.998073  0.987863   \n",
       "3     1.006708  1.005180  0.974009  ...  0.983130  1.021412  0.984743   \n",
       "4     0.980172  1.022805  0.979064  ...  0.977182  1.018379  0.993647   \n",
       "...        ...       ...       ...  ...       ...       ...       ...   \n",
       "2516  2.441084  4.584506  1.021191  ...  2.004211  2.808818  5.487444   \n",
       "2517  2.432709  4.662510  1.004372  ...  1.958902  2.810846  5.390375   \n",
       "2518  2.465088  4.705683  1.013399  ...  1.948212  2.830082  5.412500   \n",
       "2519  2.461197  4.734428  1.013947  ...  1.947877  2.848446  5.343220   \n",
       "2520  2.491607  4.744821  1.018484  ...  1.905604  2.891394  5.302014   \n",
       "\n",
       "           493       494       495       496       497       498       499  \n",
       "0     1.000000  1.000000  1.000000  1.000000  1.000000  1.000000  1.000000  \n",
       "1     0.998011  0.982835  0.992322  1.004764  1.004945  1.004770  1.022426  \n",
       "2     0.988164  0.985393  0.981357  1.012304  1.004352  1.000389  0.997697  \n",
       "3     0.984397  0.991072  0.971363  1.014119  0.982675  0.997380  1.002331  \n",
       "4     1.002006  0.992956  0.969440  1.010328  0.955218  0.999413  0.982851  \n",
       "...        ...       ...       ...       ...       ...       ...       ...  \n",
       "2516  2.283185  3.987964  3.008898  3.019104  4.072716  2.225732  1.580196  \n",
       "2517  2.322767  4.036238  3.045453  3.000682  4.070942  2.200713  1.564802  \n",
       "2518  2.357172  4.087648  3.041980  2.973303  3.971507  2.182740  1.545346  \n",
       "2519  2.376454  4.146218  3.035493  3.021313  3.988192  2.217635  1.541775  \n",
       "2520  2.372343  4.143662  3.023117  2.993154  3.977028  2.170939  1.500767  \n",
       "\n",
       "[2521 rows x 500 columns]"
      ]
     },
     "execution_count": 144,
     "metadata": {},
     "output_type": "execute_result"
    }
   ],
   "source": [
    "# Run the Monte Carlo simulation to forecast 10 years cumulative returns\n",
    "portfolio_ten.calc_cumulative_return()"
   ]
  },
  {
   "cell_type": "code",
   "execution_count": 145,
   "metadata": {},
   "outputs": [
    {
     "data": {
      "text/plain": [
       "<AxesSubplot:title={'center':'500 Simulations of Cumulative Portfolio Return Trajectories Over the Next 2520 Trading Days.'}>"
      ]
     },
     "execution_count": 145,
     "metadata": {},
     "output_type": "execute_result"
    },
    {
     "data": {
      "image/png": "[encoded data removed]",
      "text/plain": [
       "<Figure size 432x288 with 1 Axes>"
      ]
     },
     "metadata": {
      "needs_background": "light"
     },
     "output_type": "display_data"
    }
   ],
   "source": [
    "# Visualize the 10-year Monte Carlo simulation by creating an\n",
    "# overlay line plot\n",
    "portfolio_ten.plot_simulation()\n"
   ]
  },
  {
   "cell_type": "code",
   "execution_count": 146,
   "metadata": {},
   "outputs": [
    {
     "data": {
      "text/plain": [
       "<AxesSubplot:title={'center':'Distribution of Final Cumuluative Returns Across All 500 Simulations'}, ylabel='Frequency'>"
      ]
     },
     "execution_count": 146,
     "metadata": {},
     "output_type": "execute_result"
    },
    {
     "data": {
      "image/png": "[encoded data removed]",
      "text/plain": [
       "<Figure size 432x288 with 1 Axes>"
      ]
     },
     "metadata": {
      "needs_background": "light"
     },
     "output_type": "display_data"
    }
   ],
   "source": [
    "# Visualize the probability distribution of the 10-year Monte Carlo simulation \n",
    "# by plotting a histogram\n",
    "portfolio_ten.plot_distribution()\n"
   ]
  },
  {
   "cell_type": "code",
   "execution_count": 152,
   "metadata": {},
   "outputs": [
    {
     "data": {
      "text/plain": [
       "count           500.000000\n",
       "mean              2.835202\n",
       "std               1.940346\n",
       "min               0.330019\n",
       "25%               1.538863\n",
       "50%               2.357867\n",
       "75%               3.694651\n",
       "max              16.922844\n",
       "95% CI Lower      0.721930\n",
       "95% CI Upper      7.712653\n",
       "Name: 2520, dtype: float64"
      ]
     },
     "execution_count": 152,
     "metadata": {},
     "output_type": "execute_result"
    }
   ],
   "source": [
    "# Generate summary statistics from the 10-year Monte Carlo simulation results\n",
    "# Save the results as a variable\n",
    "portfolio_ten_summary = portfolio_ten.summarize_cumulative_return()\n",
    "\n",
    "\n",
    "# Review the 10-year Monte Carlo summary statistics\n",
    "portfolio_ten_summary"
   ]
  },
  {
   "cell_type": "markdown",
   "metadata": {},
   "source": [
    "### Answer the following questions:"
   ]
  },
  {
   "cell_type": "markdown",
   "metadata": {},
   "source": [
    "#### Question: Using the current value of only the stock and bond portion of the member's portfolio and the summary statistics that you generated from the new Monte Carlo simulation, what are the lower and upper bounds for the expected value of the portfolio (with the new weights) with a 95% confidence interval?"
   ]
  },
  {
   "cell_type": "code",
   "execution_count": 148,
   "metadata": {},
   "outputs": [
    {
     "data": {
      "text/plain": [
       "66132.9"
      ]
     },
     "execution_count": 148,
     "metadata": {},
     "output_type": "execute_result"
    }
   ],
   "source": [
    "# Print the current balance of the stock and bond portion of the members portfolio\n",
    "total_stocks_bonds\n"
   ]
  },
  {
   "cell_type": "code",
   "execution_count": 153,
   "metadata": {},
   "outputs": [
    {
     "name": "stdout",
     "output_type": "stream",
     "text": [
      "With 95% certainty, the 10-year cumulative return on the portfolio valued at $66132.9 with 80% stocks and 20% bonds will range between $47743.32 and $510060.11\n"
     ]
    }
   ],
   "source": [
    "# Use the lower and upper `95%` confidence intervals to calculate the range of the possible outcomes for the current stock/bond portfolio\n",
    "ci_lower_ten_cumulative_return = portfolio_ten_summary[8] * total_stocks_bonds\n",
    "ci_upper_ten_cumulative_return = portfolio_ten_summary[9] * total_stocks_bonds\n",
    "\n",
    "# Print the result of your calculations\n",
    "print(f'With 95% certainty, the 10-year cumulative return on the portfolio valued at ${total_stocks_bonds} with 80% stocks and 20% bonds will range between ${ci_lower_ten_cumulative_return:.2f} and ${ci_upper_ten_cumulative_return:.2f}')\n"
   ]
  },
  {
   "cell_type": "markdown",
   "metadata": {},
   "source": [
    "#### Question: Will weighting the portfolio more heavily to stocks allow the credit union members to retire after only 10 years?"
   ]
  },
  {
   "cell_type": "raw",
   "metadata": {},
   "source": [
    "**Answer** based on the results of this simulation, no. This is understandable in the context of the last 3 years of data being used to project the future, as these last 3 years have had very high volatility with a current market correction going on for over 6 months. \n"
   ]
  },
  {
   "cell_type": "code",
   "execution_count": null,
   "metadata": {},
   "outputs": [],
   "source": []
  }
 ],
 "metadata": {
  "kernelspec": {
   "display_name": "Python 3 (ipykernel)",
   "language": "python",
   "name": "python3"
  },
  "language_info": {
   "codemirror_mode": {
    "name": "ipython",
    "version": 3
   },
   "file_extension": ".py",
   "mimetype": "text/x-python",
   "name": "python",
   "nbconvert_exporter": "python",
   "pygments_lexer": "ipython3",
   "version": "3.7.13"
  }
 },
 "nbformat": 4,
 "nbformat_minor": 4
}
